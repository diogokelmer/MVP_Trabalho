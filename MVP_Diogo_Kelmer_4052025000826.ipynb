{
  "nbformat": 4,
  "nbformat_minor": 0,
  "metadata": {
    "colab": {
      "provenance": [],
      "collapsed_sections": [
        "DObGnkf0bJBh",
        "5kuan1F5EA8J",
        "M-bS4g_ECPoP",
        "4tX_H2zZEFwU",
        "UC1f5d_BGTVB",
        "UOSAwBz0GOAM",
        "QAKqaz73dzVP",
        "K7mN11sPHA6T",
        "YlFW54rBIbY1"
      ],
      "include_colab_link": true
    },
    "kernelspec": {
      "name": "python3",
      "display_name": "Python 3"
    },
    "language_info": {
      "name": "python"
    }
  },
  "cells": [
    {
      "cell_type": "markdown",
      "metadata": {
        "id": "view-in-github",
        "colab_type": "text"
      },
      "source": [
        "<a href=\"https://colab.research.google.com/github/diogokelmer/MVP_Trabalho/blob/main/MVP_Diogo_Kelmer_4052025000826.ipynb\" target=\"_parent\"><img src=\"https://colab.research.google.com/assets/colab-badge.svg\" alt=\"Open In Colab\"/></a>"
      ]
    },
    {
      "cell_type": "markdown",
      "source": [
        "# MVP Análise de Dados e Boas Práticas\n",
        "\n",
        "**Nome:** Diogo Kelmer Mendes Ribeiro\n",
        "\n",
        "**Matrícula:** 4052025000826\n",
        "\n",
        "**Dataset:** [Futbr Dataset - Github](https://github.com/diogokelmer/MVP_Trabalho/blob/main/BRA.csv)\n",
        "\n",
        "[Futbr Dataset - kaggle](https://www.kaggle.com/datasets/saulocampos/estatsticas-do-campeonado-brasileiro?resource=download)\n",
        "\n",
        " **------**"
      ],
      "metadata": {
        "id": "cmYX3PLx58Jg"
      }
    },
    {
      "cell_type": "markdown",
      "source": [
        "# Descrição do Problema\n",
        "\n",
        "Este trabalho tem como base um conjunto de dados com informações de partidas da Série A do Campeonato Brasileiro, incluindo dados dos times que jogaram, placar final e estatísticas de apostas, como as probabilidades (odd's) atribuídas a vitória do mandante, empate ou vitória do visitante antes do início dos jogos."
      ],
      "metadata": {
        "id": "YW_JS-EEBFaR"
      }
    },
    {
      "cell_type": "markdown",
      "source": [
        "## Hipóteses do Problema\n",
        "\n",
        "As hipóteses levantadas foram:\n",
        "\n",
        "a) As odd's oferecidas pelas casas de apostas refletem, de forma geral, a tendência do resultado final da partida.\n",
        "\n",
        "b) Jogos com odd's muito diferentes entre os times indicam um favoritismo mais claro e, possivelmente, um resultado mais previsível.\n",
        "\n",
        "c) Times mandantes costumam ter odd's menores para vitória, o que pode indicar uma vantagem histórica jogando em casa.\n",
        "\n",
        "d) O Flamengo é o time que mais converteu o favoritismo, jogando em casa, em vitórias."
      ],
      "metadata": {
        "id": "Gm6mOo5PBYwr"
      }
    },
    {
      "cell_type": "markdown",
      "source": [
        "## Tipo de Problema\n",
        "\n",
        "O tipo de problema que estou tratando aqui é uma análise exploratória de dados com enfoque descritivo. Como os resultados de cada partida já estão registrados no dataset (vitória do mandante, empate ou vitória do visitante), o objetivo é investigar padrões, frequências e possíveis relações entre variáveis como as odds fornecidas pelas casas de apostas, o mando de campo e a quantidade de gols."
      ],
      "metadata": {
        "id": "x1zNNZt6BfdF"
      }
    },
    {
      "cell_type": "markdown",
      "source": [
        "## Seleção de Dados\n",
        "\n",
        "Escolhi o dataset Futbr, pois ele reúne dados de partidas da Série A do Campeonato Brasileiro, incluindo nomes dos times, placar final, data do jogo e odd's fornecidas por casas de apostas, completo para o tema que busco analisar.\n",
        "\n",
        "Ainda, fiz essa opção por ser uma base pública, bem estruturada e permitir uma análise interessante das hipóteses elencadas acima."
      ],
      "metadata": {
        "id": "N91bTLbiBxrm"
      }
    },
    {
      "cell_type": "markdown",
      "source": [
        "## Atributos do Dataset\n",
        "\n",
        "O dataset Futbr contém as seguintes colunas:\n",
        "\n",
        "- Country: Pais onde o campeonato foi disputado.\n",
        "- League: Nome da liga (neste caso, Série A do Campeonato Brasileiro).\n",
        "- Season: Temporada do campeonato (ano).\n",
        "- Date: Data da partida.\n",
        "- Time: Horário em que o jogo foi realizado.\n",
        "- Home: Nome do time mandante.\n",
        "- Away: Nome do time visitante.\n",
        "- HG: Gols marcados pelo time da casa.\n",
        "- AG: Gols marcados pelo time visitante.\n",
        "- Res: Resultado da partida (H = vitória do mandante, D = empate, A = vitória do visitante).\n",
        "- PH, PD, PA: Probabilidades fornecidas pela casa de apostas Pinnacle para vitória do mandante, empate e vitória do visitante, respectivamente.\n",
        "- MaxH, MaxD, MaxA: Maiores probabilidades oferecidas por diferentes casas de apostas (dados da OddsPortal) para cada resultado possível.\n",
        "- AvgH, AvgD, AvgA: Probabilidades médias, também da OddsPortal, para vitória do mandante, empate e vitória do visitante."
      ],
      "metadata": {
        "id": "FC6QJHhWBnzH"
      }
    },
    {
      "cell_type": "markdown",
      "source": [
        "# Importação das Bibliotecas Necessárias e Carga de Dados\n",
        "\n",
        "Para começar, foram importadas as principais bibliotecas utilizadas em análises de dados com Python: pandas para manipulação dos dados, matplotlib.pyplot e seaborn para criação de gráficos e visualizações."
      ],
      "metadata": {
        "id": "DObGnkf0bJBh"
      }
    },
    {
      "cell_type": "code",
      "source": [
        "import pandas as pd\n",
        "import numpy as np\n",
        "import matplotlib.pyplot as plt\n",
        "import seaborn as sns\n",
        "from sklearn.datasets import load_iris\n",
        "from sklearn.model_selection import train_test_split\n",
        "from sklearn.preprocessing import StandardScaler, MinMaxScaler, OneHotEncoder\n",
        "from sklearn.decomposition import PCA\n",
        "from sklearn.compose import ColumnTransformer\n",
        "from sklearn.pipeline import Pipeline"
      ],
      "metadata": {
        "id": "tCohWn2jbkDB"
      },
      "execution_count": 40,
      "outputs": []
    },
    {
      "cell_type": "code",
      "source": [
        "url_dados = 'https://raw.githubusercontent.com/diogokelmer/MVP_Trabalho/main/BRA.csv'\n",
        "df = pd.read_csv(url_dados)\n"
      ],
      "metadata": {
        "id": "BIokzI3xb8_t"
      },
      "execution_count": 41,
      "outputs": []
    },
    {
      "cell_type": "code",
      "source": [
        "df.head()"
      ],
      "metadata": {
        "colab": {
          "base_uri": "https://localhost:8080/",
          "height": 206
        },
        "id": "AKb_BDQ6E6sR",
        "outputId": "75da75da-4d91-4b8b-cd1e-4bf4f9096dda"
      },
      "execution_count": 42,
      "outputs": [
        {
          "output_type": "execute_result",
          "data": {
            "text/plain": [
              "  Country   League  Season        Date   Time          Home         Away   HG  \\\n",
              "0  Brazil  Serie A    2012  19/05/2012  22:30     Palmeiras   Portuguesa  1.0   \n",
              "1  Brazil  Serie A    2012  19/05/2012  22:30  Sport Recife  Flamengo RJ  1.0   \n",
              "2  Brazil  Serie A    2012  20/05/2012  01:00   Figueirense      Nautico  2.0   \n",
              "3  Brazil  Serie A    2012  20/05/2012  20:00   Botafogo RJ    Sao Paulo  4.0   \n",
              "4  Brazil  Serie A    2012  20/05/2012  20:00   Corinthians   Fluminense  0.0   \n",
              "\n",
              "    AG Res    PH    PD    PA  MaxH  MaxD  MaxA  AvgH  AvgD  AvgA  \n",
              "0  1.0   D  1.75  3.86  5.25  1.76  3.87  5.31  1.69  3.50  4.90  \n",
              "1  1.0   D  2.83  3.39  2.68  2.83  3.42  2.70  2.59  3.23  2.58  \n",
              "2  1.0   H  1.60  4.04  6.72  1.67  4.05  7.22  1.59  3.67  5.64  \n",
              "3  2.0   H  2.49  3.35  3.15  2.49  3.39  3.15  2.35  3.26  2.84  \n",
              "4  1.0   A  1.96  3.53  4.41  1.96  3.53  4.41  1.89  3.33  3.89  "
            ],
            "text/html": [
              "\n",
              "  <div id=\"df-9a4e56cb-6c08-4967-96f2-e83521d37264\" class=\"colab-df-container\">\n",
              "    <div>\n",
              "<style scoped>\n",
              "    .dataframe tbody tr th:only-of-type {\n",
              "        vertical-align: middle;\n",
              "    }\n",
              "\n",
              "    .dataframe tbody tr th {\n",
              "        vertical-align: top;\n",
              "    }\n",
              "\n",
              "    .dataframe thead th {\n",
              "        text-align: right;\n",
              "    }\n",
              "</style>\n",
              "<table border=\"1\" class=\"dataframe\">\n",
              "  <thead>\n",
              "    <tr style=\"text-align: right;\">\n",
              "      <th></th>\n",
              "      <th>Country</th>\n",
              "      <th>League</th>\n",
              "      <th>Season</th>\n",
              "      <th>Date</th>\n",
              "      <th>Time</th>\n",
              "      <th>Home</th>\n",
              "      <th>Away</th>\n",
              "      <th>HG</th>\n",
              "      <th>AG</th>\n",
              "      <th>Res</th>\n",
              "      <th>PH</th>\n",
              "      <th>PD</th>\n",
              "      <th>PA</th>\n",
              "      <th>MaxH</th>\n",
              "      <th>MaxD</th>\n",
              "      <th>MaxA</th>\n",
              "      <th>AvgH</th>\n",
              "      <th>AvgD</th>\n",
              "      <th>AvgA</th>\n",
              "    </tr>\n",
              "  </thead>\n",
              "  <tbody>\n",
              "    <tr>\n",
              "      <th>0</th>\n",
              "      <td>Brazil</td>\n",
              "      <td>Serie A</td>\n",
              "      <td>2012</td>\n",
              "      <td>19/05/2012</td>\n",
              "      <td>22:30</td>\n",
              "      <td>Palmeiras</td>\n",
              "      <td>Portuguesa</td>\n",
              "      <td>1.0</td>\n",
              "      <td>1.0</td>\n",
              "      <td>D</td>\n",
              "      <td>1.75</td>\n",
              "      <td>3.86</td>\n",
              "      <td>5.25</td>\n",
              "      <td>1.76</td>\n",
              "      <td>3.87</td>\n",
              "      <td>5.31</td>\n",
              "      <td>1.69</td>\n",
              "      <td>3.50</td>\n",
              "      <td>4.90</td>\n",
              "    </tr>\n",
              "    <tr>\n",
              "      <th>1</th>\n",
              "      <td>Brazil</td>\n",
              "      <td>Serie A</td>\n",
              "      <td>2012</td>\n",
              "      <td>19/05/2012</td>\n",
              "      <td>22:30</td>\n",
              "      <td>Sport Recife</td>\n",
              "      <td>Flamengo RJ</td>\n",
              "      <td>1.0</td>\n",
              "      <td>1.0</td>\n",
              "      <td>D</td>\n",
              "      <td>2.83</td>\n",
              "      <td>3.39</td>\n",
              "      <td>2.68</td>\n",
              "      <td>2.83</td>\n",
              "      <td>3.42</td>\n",
              "      <td>2.70</td>\n",
              "      <td>2.59</td>\n",
              "      <td>3.23</td>\n",
              "      <td>2.58</td>\n",
              "    </tr>\n",
              "    <tr>\n",
              "      <th>2</th>\n",
              "      <td>Brazil</td>\n",
              "      <td>Serie A</td>\n",
              "      <td>2012</td>\n",
              "      <td>20/05/2012</td>\n",
              "      <td>01:00</td>\n",
              "      <td>Figueirense</td>\n",
              "      <td>Nautico</td>\n",
              "      <td>2.0</td>\n",
              "      <td>1.0</td>\n",
              "      <td>H</td>\n",
              "      <td>1.60</td>\n",
              "      <td>4.04</td>\n",
              "      <td>6.72</td>\n",
              "      <td>1.67</td>\n",
              "      <td>4.05</td>\n",
              "      <td>7.22</td>\n",
              "      <td>1.59</td>\n",
              "      <td>3.67</td>\n",
              "      <td>5.64</td>\n",
              "    </tr>\n",
              "    <tr>\n",
              "      <th>3</th>\n",
              "      <td>Brazil</td>\n",
              "      <td>Serie A</td>\n",
              "      <td>2012</td>\n",
              "      <td>20/05/2012</td>\n",
              "      <td>20:00</td>\n",
              "      <td>Botafogo RJ</td>\n",
              "      <td>Sao Paulo</td>\n",
              "      <td>4.0</td>\n",
              "      <td>2.0</td>\n",
              "      <td>H</td>\n",
              "      <td>2.49</td>\n",
              "      <td>3.35</td>\n",
              "      <td>3.15</td>\n",
              "      <td>2.49</td>\n",
              "      <td>3.39</td>\n",
              "      <td>3.15</td>\n",
              "      <td>2.35</td>\n",
              "      <td>3.26</td>\n",
              "      <td>2.84</td>\n",
              "    </tr>\n",
              "    <tr>\n",
              "      <th>4</th>\n",
              "      <td>Brazil</td>\n",
              "      <td>Serie A</td>\n",
              "      <td>2012</td>\n",
              "      <td>20/05/2012</td>\n",
              "      <td>20:00</td>\n",
              "      <td>Corinthians</td>\n",
              "      <td>Fluminense</td>\n",
              "      <td>0.0</td>\n",
              "      <td>1.0</td>\n",
              "      <td>A</td>\n",
              "      <td>1.96</td>\n",
              "      <td>3.53</td>\n",
              "      <td>4.41</td>\n",
              "      <td>1.96</td>\n",
              "      <td>3.53</td>\n",
              "      <td>4.41</td>\n",
              "      <td>1.89</td>\n",
              "      <td>3.33</td>\n",
              "      <td>3.89</td>\n",
              "    </tr>\n",
              "  </tbody>\n",
              "</table>\n",
              "</div>\n",
              "    <div class=\"colab-df-buttons\">\n",
              "\n",
              "  <div class=\"colab-df-container\">\n",
              "    <button class=\"colab-df-convert\" onclick=\"convertToInteractive('df-9a4e56cb-6c08-4967-96f2-e83521d37264')\"\n",
              "            title=\"Convert this dataframe to an interactive table.\"\n",
              "            style=\"display:none;\">\n",
              "\n",
              "  <svg xmlns=\"http://www.w3.org/2000/svg\" height=\"24px\" viewBox=\"0 -960 960 960\">\n",
              "    <path d=\"M120-120v-720h720v720H120Zm60-500h600v-160H180v160Zm220 220h160v-160H400v160Zm0 220h160v-160H400v160ZM180-400h160v-160H180v160Zm440 0h160v-160H620v160ZM180-180h160v-160H180v160Zm440 0h160v-160H620v160Z\"/>\n",
              "  </svg>\n",
              "    </button>\n",
              "\n",
              "  <style>\n",
              "    .colab-df-container {\n",
              "      display:flex;\n",
              "      gap: 12px;\n",
              "    }\n",
              "\n",
              "    .colab-df-convert {\n",
              "      background-color: #E8F0FE;\n",
              "      border: none;\n",
              "      border-radius: 50%;\n",
              "      cursor: pointer;\n",
              "      display: none;\n",
              "      fill: #1967D2;\n",
              "      height: 32px;\n",
              "      padding: 0 0 0 0;\n",
              "      width: 32px;\n",
              "    }\n",
              "\n",
              "    .colab-df-convert:hover {\n",
              "      background-color: #E2EBFA;\n",
              "      box-shadow: 0px 1px 2px rgba(60, 64, 67, 0.3), 0px 1px 3px 1px rgba(60, 64, 67, 0.15);\n",
              "      fill: #174EA6;\n",
              "    }\n",
              "\n",
              "    .colab-df-buttons div {\n",
              "      margin-bottom: 4px;\n",
              "    }\n",
              "\n",
              "    [theme=dark] .colab-df-convert {\n",
              "      background-color: #3B4455;\n",
              "      fill: #D2E3FC;\n",
              "    }\n",
              "\n",
              "    [theme=dark] .colab-df-convert:hover {\n",
              "      background-color: #434B5C;\n",
              "      box-shadow: 0px 1px 3px 1px rgba(0, 0, 0, 0.15);\n",
              "      filter: drop-shadow(0px 1px 2px rgba(0, 0, 0, 0.3));\n",
              "      fill: #FFFFFF;\n",
              "    }\n",
              "  </style>\n",
              "\n",
              "    <script>\n",
              "      const buttonEl =\n",
              "        document.querySelector('#df-9a4e56cb-6c08-4967-96f2-e83521d37264 button.colab-df-convert');\n",
              "      buttonEl.style.display =\n",
              "        google.colab.kernel.accessAllowed ? 'block' : 'none';\n",
              "\n",
              "      async function convertToInteractive(key) {\n",
              "        const element = document.querySelector('#df-9a4e56cb-6c08-4967-96f2-e83521d37264');\n",
              "        const dataTable =\n",
              "          await google.colab.kernel.invokeFunction('convertToInteractive',\n",
              "                                                    [key], {});\n",
              "        if (!dataTable) return;\n",
              "\n",
              "        const docLinkHtml = 'Like what you see? Visit the ' +\n",
              "          '<a target=\"_blank\" href=https://colab.research.google.com/notebooks/data_table.ipynb>data table notebook</a>'\n",
              "          + ' to learn more about interactive tables.';\n",
              "        element.innerHTML = '';\n",
              "        dataTable['output_type'] = 'display_data';\n",
              "        await google.colab.output.renderOutput(dataTable, element);\n",
              "        const docLink = document.createElement('div');\n",
              "        docLink.innerHTML = docLinkHtml;\n",
              "        element.appendChild(docLink);\n",
              "      }\n",
              "    </script>\n",
              "  </div>\n",
              "\n",
              "\n",
              "    <div id=\"df-a0a7fc5c-7b21-44aa-a097-ef4f0daf2bc8\">\n",
              "      <button class=\"colab-df-quickchart\" onclick=\"quickchart('df-a0a7fc5c-7b21-44aa-a097-ef4f0daf2bc8')\"\n",
              "                title=\"Suggest charts\"\n",
              "                style=\"display:none;\">\n",
              "\n",
              "<svg xmlns=\"http://www.w3.org/2000/svg\" height=\"24px\"viewBox=\"0 0 24 24\"\n",
              "     width=\"24px\">\n",
              "    <g>\n",
              "        <path d=\"M19 3H5c-1.1 0-2 .9-2 2v14c0 1.1.9 2 2 2h14c1.1 0 2-.9 2-2V5c0-1.1-.9-2-2-2zM9 17H7v-7h2v7zm4 0h-2V7h2v10zm4 0h-2v-4h2v4z\"/>\n",
              "    </g>\n",
              "</svg>\n",
              "      </button>\n",
              "\n",
              "<style>\n",
              "  .colab-df-quickchart {\n",
              "      --bg-color: #E8F0FE;\n",
              "      --fill-color: #1967D2;\n",
              "      --hover-bg-color: #E2EBFA;\n",
              "      --hover-fill-color: #174EA6;\n",
              "      --disabled-fill-color: #AAA;\n",
              "      --disabled-bg-color: #DDD;\n",
              "  }\n",
              "\n",
              "  [theme=dark] .colab-df-quickchart {\n",
              "      --bg-color: #3B4455;\n",
              "      --fill-color: #D2E3FC;\n",
              "      --hover-bg-color: #434B5C;\n",
              "      --hover-fill-color: #FFFFFF;\n",
              "      --disabled-bg-color: #3B4455;\n",
              "      --disabled-fill-color: #666;\n",
              "  }\n",
              "\n",
              "  .colab-df-quickchart {\n",
              "    background-color: var(--bg-color);\n",
              "    border: none;\n",
              "    border-radius: 50%;\n",
              "    cursor: pointer;\n",
              "    display: none;\n",
              "    fill: var(--fill-color);\n",
              "    height: 32px;\n",
              "    padding: 0;\n",
              "    width: 32px;\n",
              "  }\n",
              "\n",
              "  .colab-df-quickchart:hover {\n",
              "    background-color: var(--hover-bg-color);\n",
              "    box-shadow: 0 1px 2px rgba(60, 64, 67, 0.3), 0 1px 3px 1px rgba(60, 64, 67, 0.15);\n",
              "    fill: var(--button-hover-fill-color);\n",
              "  }\n",
              "\n",
              "  .colab-df-quickchart-complete:disabled,\n",
              "  .colab-df-quickchart-complete:disabled:hover {\n",
              "    background-color: var(--disabled-bg-color);\n",
              "    fill: var(--disabled-fill-color);\n",
              "    box-shadow: none;\n",
              "  }\n",
              "\n",
              "  .colab-df-spinner {\n",
              "    border: 2px solid var(--fill-color);\n",
              "    border-color: transparent;\n",
              "    border-bottom-color: var(--fill-color);\n",
              "    animation:\n",
              "      spin 1s steps(1) infinite;\n",
              "  }\n",
              "\n",
              "  @keyframes spin {\n",
              "    0% {\n",
              "      border-color: transparent;\n",
              "      border-bottom-color: var(--fill-color);\n",
              "      border-left-color: var(--fill-color);\n",
              "    }\n",
              "    20% {\n",
              "      border-color: transparent;\n",
              "      border-left-color: var(--fill-color);\n",
              "      border-top-color: var(--fill-color);\n",
              "    }\n",
              "    30% {\n",
              "      border-color: transparent;\n",
              "      border-left-color: var(--fill-color);\n",
              "      border-top-color: var(--fill-color);\n",
              "      border-right-color: var(--fill-color);\n",
              "    }\n",
              "    40% {\n",
              "      border-color: transparent;\n",
              "      border-right-color: var(--fill-color);\n",
              "      border-top-color: var(--fill-color);\n",
              "    }\n",
              "    60% {\n",
              "      border-color: transparent;\n",
              "      border-right-color: var(--fill-color);\n",
              "    }\n",
              "    80% {\n",
              "      border-color: transparent;\n",
              "      border-right-color: var(--fill-color);\n",
              "      border-bottom-color: var(--fill-color);\n",
              "    }\n",
              "    90% {\n",
              "      border-color: transparent;\n",
              "      border-bottom-color: var(--fill-color);\n",
              "    }\n",
              "  }\n",
              "</style>\n",
              "\n",
              "      <script>\n",
              "        async function quickchart(key) {\n",
              "          const quickchartButtonEl =\n",
              "            document.querySelector('#' + key + ' button');\n",
              "          quickchartButtonEl.disabled = true;  // To prevent multiple clicks.\n",
              "          quickchartButtonEl.classList.add('colab-df-spinner');\n",
              "          try {\n",
              "            const charts = await google.colab.kernel.invokeFunction(\n",
              "                'suggestCharts', [key], {});\n",
              "          } catch (error) {\n",
              "            console.error('Error during call to suggestCharts:', error);\n",
              "          }\n",
              "          quickchartButtonEl.classList.remove('colab-df-spinner');\n",
              "          quickchartButtonEl.classList.add('colab-df-quickchart-complete');\n",
              "        }\n",
              "        (() => {\n",
              "          let quickchartButtonEl =\n",
              "            document.querySelector('#df-a0a7fc5c-7b21-44aa-a097-ef4f0daf2bc8 button');\n",
              "          quickchartButtonEl.style.display =\n",
              "            google.colab.kernel.accessAllowed ? 'block' : 'none';\n",
              "        })();\n",
              "      </script>\n",
              "    </div>\n",
              "\n",
              "    </div>\n",
              "  </div>\n"
            ],
            "application/vnd.google.colaboratory.intrinsic+json": {
              "type": "dataframe",
              "variable_name": "df",
              "summary": "{\n  \"name\": \"df\",\n  \"rows\": 4170,\n  \"fields\": [\n    {\n      \"column\": \"Country\",\n      \"properties\": {\n        \"dtype\": \"category\",\n        \"num_unique_values\": 1,\n        \"samples\": [\n          \"Brazil\"\n        ],\n        \"semantic_type\": \"\",\n        \"description\": \"\"\n      }\n    },\n    {\n      \"column\": \"League\",\n      \"properties\": {\n        \"dtype\": \"category\",\n        \"num_unique_values\": 1,\n        \"samples\": [\n          \"Serie A\"\n        ],\n        \"semantic_type\": \"\",\n        \"description\": \"\"\n      }\n    },\n    {\n      \"column\": \"Season\",\n      \"properties\": {\n        \"dtype\": \"number\",\n        \"std\": 3,\n        \"min\": 2012,\n        \"max\": 2022,\n        \"num_unique_values\": 11,\n        \"samples\": [\n          2017\n        ],\n        \"semantic_type\": \"\",\n        \"description\": \"\"\n      }\n    },\n    {\n      \"column\": \"Date\",\n      \"properties\": {\n        \"dtype\": \"object\",\n        \"num_unique_values\": 1173,\n        \"samples\": [\n          \"11/07/2017\"\n        ],\n        \"semantic_type\": \"\",\n        \"description\": \"\"\n      }\n    },\n    {\n      \"column\": \"Time\",\n      \"properties\": {\n        \"dtype\": \"category\",\n        \"num_unique_values\": 39,\n        \"samples\": [\n          \" 22:15\"\n        ],\n        \"semantic_type\": \"\",\n        \"description\": \"\"\n      }\n    },\n    {\n      \"column\": \"Home\",\n      \"properties\": {\n        \"dtype\": \"category\",\n        \"num_unique_values\": 37,\n        \"samples\": [\n          \"Sao Paulo\"\n        ],\n        \"semantic_type\": \"\",\n        \"description\": \"\"\n      }\n    },\n    {\n      \"column\": \"Away\",\n      \"properties\": {\n        \"dtype\": \"category\",\n        \"num_unique_values\": 37,\n        \"samples\": [\n          \"Bahia\"\n        ],\n        \"semantic_type\": \"\",\n        \"description\": \"\"\n      }\n    },\n    {\n      \"column\": \"HG\",\n      \"properties\": {\n        \"dtype\": \"number\",\n        \"std\": 1.1583720697578423,\n        \"min\": 0.0,\n        \"max\": 6.0,\n        \"num_unique_values\": 7,\n        \"samples\": [\n          1.0\n        ],\n        \"semantic_type\": \"\",\n        \"description\": \"\"\n      }\n    },\n    {\n      \"column\": \"AG\",\n      \"properties\": {\n        \"dtype\": \"number\",\n        \"std\": 0.967422421737565,\n        \"min\": 0.0,\n        \"max\": 6.0,\n        \"num_unique_values\": 7,\n        \"samples\": [\n          1.0\n        ],\n        \"semantic_type\": \"\",\n        \"description\": \"\"\n      }\n    },\n    {\n      \"column\": \"Res\",\n      \"properties\": {\n        \"dtype\": \"category\",\n        \"num_unique_values\": 3,\n        \"samples\": [\n          \"D\"\n        ],\n        \"semantic_type\": \"\",\n        \"description\": \"\"\n      }\n    },\n    {\n      \"column\": \"PH\",\n      \"properties\": {\n        \"dtype\": \"number\",\n        \"std\": 0.9644181290383522,\n        \"min\": 1.08,\n        \"max\": 17.68,\n        \"num_unique_values\": 424,\n        \"samples\": [\n          4.78\n        ],\n        \"semantic_type\": \"\",\n        \"description\": \"\"\n      }\n    },\n    {\n      \"column\": \"PD\",\n      \"properties\": {\n        \"dtype\": \"number\",\n        \"std\": 0.6646629887976812,\n        \"min\": 2.54,\n        \"max\": 12.25,\n        \"num_unique_values\": 334,\n        \"samples\": [\n          3.51\n        ],\n        \"semantic_type\": \"\",\n        \"description\": \"\"\n      }\n    },\n    {\n      \"column\": \"PA\",\n      \"properties\": {\n        \"dtype\": \"number\",\n        \"std\": 2.5354805858424614,\n        \"min\": 1.15,\n        \"max\": 29.58,\n        \"num_unique_values\": 922,\n        \"samples\": [\n          6.74\n        ],\n        \"semantic_type\": \"\",\n        \"description\": \"\"\n      }\n    },\n    {\n      \"column\": \"MaxH\",\n      \"properties\": {\n        \"dtype\": \"number\",\n        \"std\": 1.0771616653138216,\n        \"min\": 1.09,\n        \"max\": 29.0,\n        \"num_unique_values\": 385,\n        \"samples\": [\n          6.75\n        ],\n        \"semantic_type\": \"\",\n        \"description\": \"\"\n      }\n    },\n    {\n      \"column\": \"MaxD\",\n      \"properties\": {\n        \"dtype\": \"number\",\n        \"std\": 0.6907426397148103,\n        \"min\": 2.63,\n        \"max\": 12.5,\n        \"num_unique_values\": 295,\n        \"samples\": [\n          7.01\n        ],\n        \"semantic_type\": \"\",\n        \"description\": \"\"\n      }\n    },\n    {\n      \"column\": \"MaxA\",\n      \"properties\": {\n        \"dtype\": \"number\",\n        \"std\": 2.8197271826890864,\n        \"min\": 0.0,\n        \"max\": 36.0,\n        \"num_unique_values\": 749,\n        \"samples\": [\n          2.11\n        ],\n        \"semantic_type\": \"\",\n        \"description\": \"\"\n      }\n    },\n    {\n      \"column\": \"AvgH\",\n      \"properties\": {\n        \"dtype\": \"number\",\n        \"std\": 0.8986574777742379,\n        \"min\": 1.07,\n        \"max\": 20.23,\n        \"num_unique_values\": 398,\n        \"samples\": [\n          4.08\n        ],\n        \"semantic_type\": \"\",\n        \"description\": \"\"\n      }\n    },\n    {\n      \"column\": \"AvgD\",\n      \"properties\": {\n        \"dtype\": \"number\",\n        \"std\": 0.5768354049894985,\n        \"min\": 2.51,\n        \"max\": 10.82,\n        \"num_unique_values\": 304,\n        \"samples\": [\n          4.27\n        ],\n        \"semantic_type\": \"\",\n        \"description\": \"\"\n      }\n    },\n    {\n      \"column\": \"AvgA\",\n      \"properties\": {\n        \"dtype\": \"number\",\n        \"std\": 2.170512497683634,\n        \"min\": 1.15,\n        \"max\": 26.58,\n        \"num_unique_values\": 842,\n        \"samples\": [\n          2.2\n        ],\n        \"semantic_type\": \"\",\n        \"description\": \"\"\n      }\n    }\n  ]\n}"
            }
          },
          "metadata": {},
          "execution_count": 42
        }
      ]
    },
    {
      "cell_type": "markdown",
      "source": [
        "Nas primeiras linhas do dataset, o que chama atenção é que, além dos dados básicos da partida, como times, placar, data e horário, o arquivo traz várias colunas relacionadas às probabilidades fornecidas por casas de apostas, como PH, PD, PA, AvgH, AvgD, AvgA, entre outras.\n",
        "\n",
        "Outro ponto relevante é que os valores da coluna \"Res\", que indica o resultado do jogo, estão representados por letras. H indica vitória do mandante, significando \"Home\", ou o time que joga \"em casa\", A indica vitória do visitante, significando \"Away\", ou o time que joga \"fora de casa\" e D representa empate, do inglês \"Draw\"."
      ],
      "metadata": {
        "id": "-GIBT-v-nJ0_"
      }
    },
    {
      "cell_type": "markdown",
      "source": [
        "# Análise de Dados\n",
        "\n",
        "Nesta etapa de Análise de Dados Exploratória (EDA) sobre o dataset Futbr, visamos entender a distribuição, as relações e as características das variáveis, o que é crucial para as etapas subsequentes de pré-processamento e modelagem."
      ],
      "metadata": {
        "id": "XcHpQ9s_B4n1"
      }
    },
    {
      "cell_type": "markdown",
      "source": [
        "## Total e Tipo das Instâncias\n",
        "\n",
        "O dataset Iris possui 4170 instâncias (observações), com 19 colunas. Cada uma representa ou uma característica da partida disputada ou uma probabilidade relacionada à partida. Desta forma, possui tanto atributos númericos como PD, AVGD etc. Como atributos categóricos, como o país e a temporada em que a partida foi disputada."
      ],
      "metadata": {
        "id": "5kuan1F5EA8J"
      }
    },
    {
      "cell_type": "code",
      "source": [
        "print(f\"Total de instâncias: {len(df)}\")\n",
        "print(\"\\nTipos de dados por coluna:\")\n",
        "print(df.info())"
      ],
      "metadata": {
        "id": "3asH5qmbHKVe",
        "colab": {
          "base_uri": "https://localhost:8080/"
        },
        "outputId": "36872a01-04bc-4202-bc5e-46088418fa80"
      },
      "execution_count": 43,
      "outputs": [
        {
          "output_type": "stream",
          "name": "stdout",
          "text": [
            "Total de instâncias: 4170\n",
            "\n",
            "Tipos de dados por coluna:\n",
            "<class 'pandas.core.frame.DataFrame'>\n",
            "RangeIndex: 4170 entries, 0 to 4169\n",
            "Data columns (total 19 columns):\n",
            " #   Column   Non-Null Count  Dtype  \n",
            "---  ------   --------------  -----  \n",
            " 0   Country  4170 non-null   object \n",
            " 1   League   4170 non-null   object \n",
            " 2   Season   4170 non-null   int64  \n",
            " 3   Date     4170 non-null   object \n",
            " 4   Time     4170 non-null   object \n",
            " 5   Home     4170 non-null   object \n",
            " 6   Away     4170 non-null   object \n",
            " 7   HG       4169 non-null   float64\n",
            " 8   AG       4169 non-null   float64\n",
            " 9   Res      4169 non-null   object \n",
            " 10  PH       4169 non-null   float64\n",
            " 11  PD       4169 non-null   float64\n",
            " 12  PA       4169 non-null   float64\n",
            " 13  MaxH     4170 non-null   float64\n",
            " 14  MaxD     4170 non-null   float64\n",
            " 15  MaxA     4170 non-null   float64\n",
            " 16  AvgH     4170 non-null   float64\n",
            " 17  AvgD     4170 non-null   float64\n",
            " 18  AvgA     4170 non-null   float64\n",
            "dtypes: float64(11), int64(1), object(7)\n",
            "memory usage: 619.1+ KB\n",
            "None\n"
          ]
        }
      ]
    },
    {
      "cell_type": "markdown",
      "source": [
        "## Estatísticas Descritivas\n"
      ],
      "metadata": {
        "id": "M-bS4g_ECPoP"
      }
    },
    {
      "cell_type": "markdown",
      "source": [
        "Verificando as estatísticas descritivas abaixo, algumas tendências importantes já começam a aparecer como em gols marcados, percebemos que os times mandantes têm uma média de 1,41 gols por partida, enquanto os visitantes marcam, em média, 0,95 e isso talvez já reforce uma surpertição dentro do mundo do futebol que jogar em casa costuma ser uma vantagem e acaba sendo considerado favorito nas odds, mas verificaremos isso mais afundo quando entrarmos nas hipóteses, mas já olhando por cima sobre as odds oferecidas pelas casas de apostas como a pinnacle, vemos que a média da odd para vitória do mandante é 2,30 consideravelmente menor que a média para vitória do visitante, que é 4,71. O empate fica entre essas duas, com média de 3,65. Essa diferença pode mostrar que, na média, as casas de apostas também tendem a considerar o time da casa como favorito.\n",
        "\n",
        "Além disso, ao observarmos as odds máximas e médias oferecidas por diversas casas (como as colunas MaxH, MaxA, AvgH, AvgA), percebemos que temod jogos em que as odds para vitória do visitante chegam a valores muito altos e isso pode indicar partidas com grande desequilíbrio, onde o favoritismo de um dos times é muito claro. Esse cenário se conecta diretamente à hipótese de que odds muito diferentes podem sugerir resultados mais previsíveis, mas verificaremos mais afundo quando entrarmos na hipótese.\n",
        "\n",
        "E isso também pode ser verificado na média abaixo e no desvio padrão, ja que lá podemos ver que há uma oscilação considerável em algumas variáveis como o desvio padrão das odds de vitória do visitante (PA) de 2.53, indicando que há uma grande dispersão nesses valores o que pode estar relacionado a partidas com favoritismo muito claro do time da casa. O mesmo vale para MaxA e AvgA que também têm desvios altos de 2.81 e 2.17, reforçando a presença de outliers."
      ],
      "metadata": {
        "id": "UNKlnqu7WBgl"
      }
    },
    {
      "cell_type": "code",
      "source": [
        "df.describe()"
      ],
      "metadata": {
        "colab": {
          "base_uri": "https://localhost:8080/",
          "height": 300
        },
        "id": "oW_fs32v5OUB",
        "outputId": "b157fe6c-f5d2-4f14-afe9-18482ba83924"
      },
      "execution_count": 44,
      "outputs": [
        {
          "output_type": "execute_result",
          "data": {
            "text/plain": [
              "            Season           HG           AG           PH           PD  \\\n",
              "count  4170.000000  4169.000000  4169.000000  4169.000000  4169.000000   \n",
              "mean   2016.988010     1.413049     0.946030     2.308695     3.655570   \n",
              "std       3.156941     1.158372     0.967422     0.964418     0.664663   \n",
              "min    2012.000000     0.000000     0.000000     1.080000     2.540000   \n",
              "25%    2014.000000     1.000000     0.000000     1.690000     3.260000   \n",
              "50%    2017.000000     1.000000     1.000000     2.080000     3.450000   \n",
              "75%    2020.000000     2.000000     1.000000     2.620000     3.860000   \n",
              "max    2022.000000     6.000000     6.000000    17.680000    12.250000   \n",
              "\n",
              "                PA         MaxH         MaxD         MaxA         AvgH  \\\n",
              "count  4169.000000  4170.000000  4170.000000  4170.000000  4170.000000   \n",
              "mean      4.716887     2.389823     3.760086     4.971638     2.231590   \n",
              "std       2.535481     1.077162     0.690743     2.819727     0.898657   \n",
              "min       1.150000     1.090000     2.630000     0.000000     1.070000   \n",
              "25%       2.980000     1.730000     3.340000     3.060000     1.650000   \n",
              "50%       4.020000     2.150000     3.540000     4.150000     2.030000   \n",
              "75%       5.780000     2.700000     3.970000     6.100000     2.530000   \n",
              "max      29.580000    29.000000    12.500000    36.000000    20.230000   \n",
              "\n",
              "              AvgD         AvgA  \n",
              "count  4170.000000  4170.000000  \n",
              "mean      3.488293     4.347379  \n",
              "std       0.576835     2.170512  \n",
              "min       2.510000     1.150000  \n",
              "25%       3.150000     2.850000  \n",
              "50%       3.300000     3.735000  \n",
              "75%       3.660000     5.330000  \n",
              "max      10.820000    26.580000  "
            ],
            "text/html": [
              "\n",
              "  <div id=\"df-dc2c265b-d97b-4bd5-b043-0c17f6d849a4\" class=\"colab-df-container\">\n",
              "    <div>\n",
              "<style scoped>\n",
              "    .dataframe tbody tr th:only-of-type {\n",
              "        vertical-align: middle;\n",
              "    }\n",
              "\n",
              "    .dataframe tbody tr th {\n",
              "        vertical-align: top;\n",
              "    }\n",
              "\n",
              "    .dataframe thead th {\n",
              "        text-align: right;\n",
              "    }\n",
              "</style>\n",
              "<table border=\"1\" class=\"dataframe\">\n",
              "  <thead>\n",
              "    <tr style=\"text-align: right;\">\n",
              "      <th></th>\n",
              "      <th>Season</th>\n",
              "      <th>HG</th>\n",
              "      <th>AG</th>\n",
              "      <th>PH</th>\n",
              "      <th>PD</th>\n",
              "      <th>PA</th>\n",
              "      <th>MaxH</th>\n",
              "      <th>MaxD</th>\n",
              "      <th>MaxA</th>\n",
              "      <th>AvgH</th>\n",
              "      <th>AvgD</th>\n",
              "      <th>AvgA</th>\n",
              "    </tr>\n",
              "  </thead>\n",
              "  <tbody>\n",
              "    <tr>\n",
              "      <th>count</th>\n",
              "      <td>4170.000000</td>\n",
              "      <td>4169.000000</td>\n",
              "      <td>4169.000000</td>\n",
              "      <td>4169.000000</td>\n",
              "      <td>4169.000000</td>\n",
              "      <td>4169.000000</td>\n",
              "      <td>4170.000000</td>\n",
              "      <td>4170.000000</td>\n",
              "      <td>4170.000000</td>\n",
              "      <td>4170.000000</td>\n",
              "      <td>4170.000000</td>\n",
              "      <td>4170.000000</td>\n",
              "    </tr>\n",
              "    <tr>\n",
              "      <th>mean</th>\n",
              "      <td>2016.988010</td>\n",
              "      <td>1.413049</td>\n",
              "      <td>0.946030</td>\n",
              "      <td>2.308695</td>\n",
              "      <td>3.655570</td>\n",
              "      <td>4.716887</td>\n",
              "      <td>2.389823</td>\n",
              "      <td>3.760086</td>\n",
              "      <td>4.971638</td>\n",
              "      <td>2.231590</td>\n",
              "      <td>3.488293</td>\n",
              "      <td>4.347379</td>\n",
              "    </tr>\n",
              "    <tr>\n",
              "      <th>std</th>\n",
              "      <td>3.156941</td>\n",
              "      <td>1.158372</td>\n",
              "      <td>0.967422</td>\n",
              "      <td>0.964418</td>\n",
              "      <td>0.664663</td>\n",
              "      <td>2.535481</td>\n",
              "      <td>1.077162</td>\n",
              "      <td>0.690743</td>\n",
              "      <td>2.819727</td>\n",
              "      <td>0.898657</td>\n",
              "      <td>0.576835</td>\n",
              "      <td>2.170512</td>\n",
              "    </tr>\n",
              "    <tr>\n",
              "      <th>min</th>\n",
              "      <td>2012.000000</td>\n",
              "      <td>0.000000</td>\n",
              "      <td>0.000000</td>\n",
              "      <td>1.080000</td>\n",
              "      <td>2.540000</td>\n",
              "      <td>1.150000</td>\n",
              "      <td>1.090000</td>\n",
              "      <td>2.630000</td>\n",
              "      <td>0.000000</td>\n",
              "      <td>1.070000</td>\n",
              "      <td>2.510000</td>\n",
              "      <td>1.150000</td>\n",
              "    </tr>\n",
              "    <tr>\n",
              "      <th>25%</th>\n",
              "      <td>2014.000000</td>\n",
              "      <td>1.000000</td>\n",
              "      <td>0.000000</td>\n",
              "      <td>1.690000</td>\n",
              "      <td>3.260000</td>\n",
              "      <td>2.980000</td>\n",
              "      <td>1.730000</td>\n",
              "      <td>3.340000</td>\n",
              "      <td>3.060000</td>\n",
              "      <td>1.650000</td>\n",
              "      <td>3.150000</td>\n",
              "      <td>2.850000</td>\n",
              "    </tr>\n",
              "    <tr>\n",
              "      <th>50%</th>\n",
              "      <td>2017.000000</td>\n",
              "      <td>1.000000</td>\n",
              "      <td>1.000000</td>\n",
              "      <td>2.080000</td>\n",
              "      <td>3.450000</td>\n",
              "      <td>4.020000</td>\n",
              "      <td>2.150000</td>\n",
              "      <td>3.540000</td>\n",
              "      <td>4.150000</td>\n",
              "      <td>2.030000</td>\n",
              "      <td>3.300000</td>\n",
              "      <td>3.735000</td>\n",
              "    </tr>\n",
              "    <tr>\n",
              "      <th>75%</th>\n",
              "      <td>2020.000000</td>\n",
              "      <td>2.000000</td>\n",
              "      <td>1.000000</td>\n",
              "      <td>2.620000</td>\n",
              "      <td>3.860000</td>\n",
              "      <td>5.780000</td>\n",
              "      <td>2.700000</td>\n",
              "      <td>3.970000</td>\n",
              "      <td>6.100000</td>\n",
              "      <td>2.530000</td>\n",
              "      <td>3.660000</td>\n",
              "      <td>5.330000</td>\n",
              "    </tr>\n",
              "    <tr>\n",
              "      <th>max</th>\n",
              "      <td>2022.000000</td>\n",
              "      <td>6.000000</td>\n",
              "      <td>6.000000</td>\n",
              "      <td>17.680000</td>\n",
              "      <td>12.250000</td>\n",
              "      <td>29.580000</td>\n",
              "      <td>29.000000</td>\n",
              "      <td>12.500000</td>\n",
              "      <td>36.000000</td>\n",
              "      <td>20.230000</td>\n",
              "      <td>10.820000</td>\n",
              "      <td>26.580000</td>\n",
              "    </tr>\n",
              "  </tbody>\n",
              "</table>\n",
              "</div>\n",
              "    <div class=\"colab-df-buttons\">\n",
              "\n",
              "  <div class=\"colab-df-container\">\n",
              "    <button class=\"colab-df-convert\" onclick=\"convertToInteractive('df-dc2c265b-d97b-4bd5-b043-0c17f6d849a4')\"\n",
              "            title=\"Convert this dataframe to an interactive table.\"\n",
              "            style=\"display:none;\">\n",
              "\n",
              "  <svg xmlns=\"http://www.w3.org/2000/svg\" height=\"24px\" viewBox=\"0 -960 960 960\">\n",
              "    <path d=\"M120-120v-720h720v720H120Zm60-500h600v-160H180v160Zm220 220h160v-160H400v160Zm0 220h160v-160H400v160ZM180-400h160v-160H180v160Zm440 0h160v-160H620v160ZM180-180h160v-160H180v160Zm440 0h160v-160H620v160Z\"/>\n",
              "  </svg>\n",
              "    </button>\n",
              "\n",
              "  <style>\n",
              "    .colab-df-container {\n",
              "      display:flex;\n",
              "      gap: 12px;\n",
              "    }\n",
              "\n",
              "    .colab-df-convert {\n",
              "      background-color: #E8F0FE;\n",
              "      border: none;\n",
              "      border-radius: 50%;\n",
              "      cursor: pointer;\n",
              "      display: none;\n",
              "      fill: #1967D2;\n",
              "      height: 32px;\n",
              "      padding: 0 0 0 0;\n",
              "      width: 32px;\n",
              "    }\n",
              "\n",
              "    .colab-df-convert:hover {\n",
              "      background-color: #E2EBFA;\n",
              "      box-shadow: 0px 1px 2px rgba(60, 64, 67, 0.3), 0px 1px 3px 1px rgba(60, 64, 67, 0.15);\n",
              "      fill: #174EA6;\n",
              "    }\n",
              "\n",
              "    .colab-df-buttons div {\n",
              "      margin-bottom: 4px;\n",
              "    }\n",
              "\n",
              "    [theme=dark] .colab-df-convert {\n",
              "      background-color: #3B4455;\n",
              "      fill: #D2E3FC;\n",
              "    }\n",
              "\n",
              "    [theme=dark] .colab-df-convert:hover {\n",
              "      background-color: #434B5C;\n",
              "      box-shadow: 0px 1px 3px 1px rgba(0, 0, 0, 0.15);\n",
              "      filter: drop-shadow(0px 1px 2px rgba(0, 0, 0, 0.3));\n",
              "      fill: #FFFFFF;\n",
              "    }\n",
              "  </style>\n",
              "\n",
              "    <script>\n",
              "      const buttonEl =\n",
              "        document.querySelector('#df-dc2c265b-d97b-4bd5-b043-0c17f6d849a4 button.colab-df-convert');\n",
              "      buttonEl.style.display =\n",
              "        google.colab.kernel.accessAllowed ? 'block' : 'none';\n",
              "\n",
              "      async function convertToInteractive(key) {\n",
              "        const element = document.querySelector('#df-dc2c265b-d97b-4bd5-b043-0c17f6d849a4');\n",
              "        const dataTable =\n",
              "          await google.colab.kernel.invokeFunction('convertToInteractive',\n",
              "                                                    [key], {});\n",
              "        if (!dataTable) return;\n",
              "\n",
              "        const docLinkHtml = 'Like what you see? Visit the ' +\n",
              "          '<a target=\"_blank\" href=https://colab.research.google.com/notebooks/data_table.ipynb>data table notebook</a>'\n",
              "          + ' to learn more about interactive tables.';\n",
              "        element.innerHTML = '';\n",
              "        dataTable['output_type'] = 'display_data';\n",
              "        await google.colab.output.renderOutput(dataTable, element);\n",
              "        const docLink = document.createElement('div');\n",
              "        docLink.innerHTML = docLinkHtml;\n",
              "        element.appendChild(docLink);\n",
              "      }\n",
              "    </script>\n",
              "  </div>\n",
              "\n",
              "\n",
              "    <div id=\"df-f2697870-04d2-4f76-8ebe-248a4a19ca7b\">\n",
              "      <button class=\"colab-df-quickchart\" onclick=\"quickchart('df-f2697870-04d2-4f76-8ebe-248a4a19ca7b')\"\n",
              "                title=\"Suggest charts\"\n",
              "                style=\"display:none;\">\n",
              "\n",
              "<svg xmlns=\"http://www.w3.org/2000/svg\" height=\"24px\"viewBox=\"0 0 24 24\"\n",
              "     width=\"24px\">\n",
              "    <g>\n",
              "        <path d=\"M19 3H5c-1.1 0-2 .9-2 2v14c0 1.1.9 2 2 2h14c1.1 0 2-.9 2-2V5c0-1.1-.9-2-2-2zM9 17H7v-7h2v7zm4 0h-2V7h2v10zm4 0h-2v-4h2v4z\"/>\n",
              "    </g>\n",
              "</svg>\n",
              "      </button>\n",
              "\n",
              "<style>\n",
              "  .colab-df-quickchart {\n",
              "      --bg-color: #E8F0FE;\n",
              "      --fill-color: #1967D2;\n",
              "      --hover-bg-color: #E2EBFA;\n",
              "      --hover-fill-color: #174EA6;\n",
              "      --disabled-fill-color: #AAA;\n",
              "      --disabled-bg-color: #DDD;\n",
              "  }\n",
              "\n",
              "  [theme=dark] .colab-df-quickchart {\n",
              "      --bg-color: #3B4455;\n",
              "      --fill-color: #D2E3FC;\n",
              "      --hover-bg-color: #434B5C;\n",
              "      --hover-fill-color: #FFFFFF;\n",
              "      --disabled-bg-color: #3B4455;\n",
              "      --disabled-fill-color: #666;\n",
              "  }\n",
              "\n",
              "  .colab-df-quickchart {\n",
              "    background-color: var(--bg-color);\n",
              "    border: none;\n",
              "    border-radius: 50%;\n",
              "    cursor: pointer;\n",
              "    display: none;\n",
              "    fill: var(--fill-color);\n",
              "    height: 32px;\n",
              "    padding: 0;\n",
              "    width: 32px;\n",
              "  }\n",
              "\n",
              "  .colab-df-quickchart:hover {\n",
              "    background-color: var(--hover-bg-color);\n",
              "    box-shadow: 0 1px 2px rgba(60, 64, 67, 0.3), 0 1px 3px 1px rgba(60, 64, 67, 0.15);\n",
              "    fill: var(--button-hover-fill-color);\n",
              "  }\n",
              "\n",
              "  .colab-df-quickchart-complete:disabled,\n",
              "  .colab-df-quickchart-complete:disabled:hover {\n",
              "    background-color: var(--disabled-bg-color);\n",
              "    fill: var(--disabled-fill-color);\n",
              "    box-shadow: none;\n",
              "  }\n",
              "\n",
              "  .colab-df-spinner {\n",
              "    border: 2px solid var(--fill-color);\n",
              "    border-color: transparent;\n",
              "    border-bottom-color: var(--fill-color);\n",
              "    animation:\n",
              "      spin 1s steps(1) infinite;\n",
              "  }\n",
              "\n",
              "  @keyframes spin {\n",
              "    0% {\n",
              "      border-color: transparent;\n",
              "      border-bottom-color: var(--fill-color);\n",
              "      border-left-color: var(--fill-color);\n",
              "    }\n",
              "    20% {\n",
              "      border-color: transparent;\n",
              "      border-left-color: var(--fill-color);\n",
              "      border-top-color: var(--fill-color);\n",
              "    }\n",
              "    30% {\n",
              "      border-color: transparent;\n",
              "      border-left-color: var(--fill-color);\n",
              "      border-top-color: var(--fill-color);\n",
              "      border-right-color: var(--fill-color);\n",
              "    }\n",
              "    40% {\n",
              "      border-color: transparent;\n",
              "      border-right-color: var(--fill-color);\n",
              "      border-top-color: var(--fill-color);\n",
              "    }\n",
              "    60% {\n",
              "      border-color: transparent;\n",
              "      border-right-color: var(--fill-color);\n",
              "    }\n",
              "    80% {\n",
              "      border-color: transparent;\n",
              "      border-right-color: var(--fill-color);\n",
              "      border-bottom-color: var(--fill-color);\n",
              "    }\n",
              "    90% {\n",
              "      border-color: transparent;\n",
              "      border-bottom-color: var(--fill-color);\n",
              "    }\n",
              "  }\n",
              "</style>\n",
              "\n",
              "      <script>\n",
              "        async function quickchart(key) {\n",
              "          const quickchartButtonEl =\n",
              "            document.querySelector('#' + key + ' button');\n",
              "          quickchartButtonEl.disabled = true;  // To prevent multiple clicks.\n",
              "          quickchartButtonEl.classList.add('colab-df-spinner');\n",
              "          try {\n",
              "            const charts = await google.colab.kernel.invokeFunction(\n",
              "                'suggestCharts', [key], {});\n",
              "          } catch (error) {\n",
              "            console.error('Error during call to suggestCharts:', error);\n",
              "          }\n",
              "          quickchartButtonEl.classList.remove('colab-df-spinner');\n",
              "          quickchartButtonEl.classList.add('colab-df-quickchart-complete');\n",
              "        }\n",
              "        (() => {\n",
              "          let quickchartButtonEl =\n",
              "            document.querySelector('#df-f2697870-04d2-4f76-8ebe-248a4a19ca7b button');\n",
              "          quickchartButtonEl.style.display =\n",
              "            google.colab.kernel.accessAllowed ? 'block' : 'none';\n",
              "        })();\n",
              "      </script>\n",
              "    </div>\n",
              "\n",
              "    </div>\n",
              "  </div>\n"
            ],
            "application/vnd.google.colaboratory.intrinsic+json": {
              "type": "dataframe",
              "summary": "{\n  \"name\": \"df\",\n  \"rows\": 8,\n  \"fields\": [\n    {\n      \"column\": \"Season\",\n      \"properties\": {\n        \"dtype\": \"number\",\n        \"std\": 1114.105708162173,\n        \"min\": 3.156940766170172,\n        \"max\": 4170.0,\n        \"num_unique_values\": 8,\n        \"samples\": [\n          2016.988009592326,\n          2017.0,\n          4170.0\n        ],\n        \"semantic_type\": \"\",\n        \"description\": \"\"\n      }\n    },\n    {\n      \"column\": \"HG\",\n      \"properties\": {\n        \"dtype\": \"number\",\n        \"std\": 1473.330236241559,\n        \"min\": 0.0,\n        \"max\": 4169.0,\n        \"num_unique_values\": 7,\n        \"samples\": [\n          4169.0,\n          1.41304869273207,\n          2.0\n        ],\n        \"semantic_type\": \"\",\n        \"description\": \"\"\n      }\n    },\n    {\n      \"column\": \"AG\",\n      \"properties\": {\n        \"dtype\": \"number\",\n        \"std\": 1473.4646306915233,\n        \"min\": 0.0,\n        \"max\": 4169.0,\n        \"num_unique_values\": 6,\n        \"samples\": [\n          4169.0,\n          0.946030223075078,\n          6.0\n        ],\n        \"semantic_type\": \"\",\n        \"description\": \"\"\n      }\n    },\n    {\n      \"column\": \"PH\",\n      \"properties\": {\n        \"dtype\": \"number\",\n        \"std\": 1472.5391072618954,\n        \"min\": 0.9644181290383522,\n        \"max\": 4169.0,\n        \"num_unique_values\": 8,\n        \"samples\": [\n          2.308695130726793,\n          2.08,\n          4169.0\n        ],\n        \"semantic_type\": \"\",\n        \"description\": \"\"\n      }\n    },\n    {\n      \"column\": \"PD\",\n      \"properties\": {\n        \"dtype\": \"number\",\n        \"std\": 1472.4689803543322,\n        \"min\": 0.6646629887976812,\n        \"max\": 4169.0,\n        \"num_unique_values\": 8,\n        \"samples\": [\n          3.655569680978652,\n          3.45,\n          4169.0\n        ],\n        \"semantic_type\": \"\",\n        \"description\": \"\"\n      }\n    },\n    {\n      \"column\": \"PA\",\n      \"properties\": {\n        \"dtype\": \"number\",\n        \"std\": 1471.4290974326527,\n        \"min\": 1.15,\n        \"max\": 4169.0,\n        \"num_unique_values\": 8,\n        \"samples\": [\n          4.716886543535621,\n          4.02,\n          4169.0\n        ],\n        \"semantic_type\": \"\",\n        \"description\": \"\"\n      }\n    },\n    {\n      \"column\": \"MaxH\",\n      \"properties\": {\n        \"dtype\": \"number\",\n        \"std\": 1472.321164828094,\n        \"min\": 1.0771616653138216,\n        \"max\": 4170.0,\n        \"num_unique_values\": 8,\n        \"samples\": [\n          2.389822541966427,\n          2.15,\n          4170.0\n        ],\n        \"semantic_type\": \"\",\n        \"description\": \"\"\n      }\n    },\n    {\n      \"column\": \"MaxD\",\n      \"properties\": {\n        \"dtype\": \"number\",\n        \"std\": 1472.7847692989983,\n        \"min\": 0.6907426397148103,\n        \"max\": 4170.0,\n        \"num_unique_values\": 8,\n        \"samples\": [\n          3.760086330935252,\n          3.54,\n          4170.0\n        ],\n        \"semantic_type\": \"\",\n        \"description\": \"\"\n      }\n    },\n    {\n      \"column\": \"MaxA\",\n      \"properties\": {\n        \"dtype\": \"number\",\n        \"std\": 1471.4785674047184,\n        \"min\": 0.0,\n        \"max\": 4170.0,\n        \"num_unique_values\": 8,\n        \"samples\": [\n          4.97163788968825,\n          4.15,\n          4170.0\n        ],\n        \"semantic_type\": \"\",\n        \"description\": \"\"\n      }\n    },\n    {\n      \"column\": \"AvgH\",\n      \"properties\": {\n        \"dtype\": \"number\",\n        \"std\": 1472.7843949793657,\n        \"min\": 0.8986574777742379,\n        \"max\": 4170.0,\n        \"num_unique_values\": 8,\n        \"samples\": [\n          2.231589928057554,\n          2.03,\n          4170.0\n        ],\n        \"semantic_type\": \"\",\n        \"description\": \"\"\n      }\n    },\n    {\n      \"column\": \"AvgD\",\n      \"properties\": {\n        \"dtype\": \"number\",\n        \"std\": 1472.9314269319398,\n        \"min\": 0.5768354049894985,\n        \"max\": 4170.0,\n        \"num_unique_values\": 8,\n        \"samples\": [\n          3.4882925659472424,\n          3.3,\n          4170.0\n        ],\n        \"semantic_type\": \"\",\n        \"description\": \"\"\n      }\n    },\n    {\n      \"column\": \"AvgA\",\n      \"properties\": {\n        \"dtype\": \"number\",\n        \"std\": 1472.009230391586,\n        \"min\": 1.15,\n        \"max\": 4170.0,\n        \"num_unique_values\": 8,\n        \"samples\": [\n          4.347378896882494,\n          3.7350000000000003,\n          4170.0\n        ],\n        \"semantic_type\": \"\",\n        \"description\": \"\"\n      }\n    }\n  ]\n}"
            }
          },
          "metadata": {},
          "execution_count": 44
        }
      ]
    },
    {
      "cell_type": "markdown",
      "source": [
        "### Média"
      ],
      "metadata": {
        "id": "sWPH7rj8Ck6v"
      }
    },
    {
      "cell_type": "code",
      "source": [
        "df.describe().loc['mean']"
      ],
      "metadata": {
        "colab": {
          "base_uri": "https://localhost:8080/",
          "height": 460
        },
        "id": "vm3QIAb-CZbt",
        "outputId": "1c1d75ec-785d-4a09-9752-d16fa1779288"
      },
      "execution_count": 45,
      "outputs": [
        {
          "output_type": "execute_result",
          "data": {
            "text/plain": [
              "Season    2016.988010\n",
              "HG           1.413049\n",
              "AG           0.946030\n",
              "PH           2.308695\n",
              "PD           3.655570\n",
              "PA           4.716887\n",
              "MaxH         2.389823\n",
              "MaxD         3.760086\n",
              "MaxA         4.971638\n",
              "AvgH         2.231590\n",
              "AvgD         3.488293\n",
              "AvgA         4.347379\n",
              "Name: mean, dtype: float64"
            ],
            "text/html": [
              "<div>\n",
              "<style scoped>\n",
              "    .dataframe tbody tr th:only-of-type {\n",
              "        vertical-align: middle;\n",
              "    }\n",
              "\n",
              "    .dataframe tbody tr th {\n",
              "        vertical-align: top;\n",
              "    }\n",
              "\n",
              "    .dataframe thead th {\n",
              "        text-align: right;\n",
              "    }\n",
              "</style>\n",
              "<table border=\"1\" class=\"dataframe\">\n",
              "  <thead>\n",
              "    <tr style=\"text-align: right;\">\n",
              "      <th></th>\n",
              "      <th>mean</th>\n",
              "    </tr>\n",
              "  </thead>\n",
              "  <tbody>\n",
              "    <tr>\n",
              "      <th>Season</th>\n",
              "      <td>2016.988010</td>\n",
              "    </tr>\n",
              "    <tr>\n",
              "      <th>HG</th>\n",
              "      <td>1.413049</td>\n",
              "    </tr>\n",
              "    <tr>\n",
              "      <th>AG</th>\n",
              "      <td>0.946030</td>\n",
              "    </tr>\n",
              "    <tr>\n",
              "      <th>PH</th>\n",
              "      <td>2.308695</td>\n",
              "    </tr>\n",
              "    <tr>\n",
              "      <th>PD</th>\n",
              "      <td>3.655570</td>\n",
              "    </tr>\n",
              "    <tr>\n",
              "      <th>PA</th>\n",
              "      <td>4.716887</td>\n",
              "    </tr>\n",
              "    <tr>\n",
              "      <th>MaxH</th>\n",
              "      <td>2.389823</td>\n",
              "    </tr>\n",
              "    <tr>\n",
              "      <th>MaxD</th>\n",
              "      <td>3.760086</td>\n",
              "    </tr>\n",
              "    <tr>\n",
              "      <th>MaxA</th>\n",
              "      <td>4.971638</td>\n",
              "    </tr>\n",
              "    <tr>\n",
              "      <th>AvgH</th>\n",
              "      <td>2.231590</td>\n",
              "    </tr>\n",
              "    <tr>\n",
              "      <th>AvgD</th>\n",
              "      <td>3.488293</td>\n",
              "    </tr>\n",
              "    <tr>\n",
              "      <th>AvgA</th>\n",
              "      <td>4.347379</td>\n",
              "    </tr>\n",
              "  </tbody>\n",
              "</table>\n",
              "</div><br><label><b>dtype:</b> float64</label>"
            ]
          },
          "metadata": {},
          "execution_count": 45
        }
      ]
    },
    {
      "cell_type": "code",
      "source": [
        "means = df.describe().loc['mean'].sort_values()\n",
        "# Removi a coluna 'Season' devido à distância entre o tamanho do número do ano e os demias\n",
        "means = means.drop('Season')\n",
        "plt.figure(figsize=(10, 6))\n",
        "ax = sns.barplot(x=means.values, y=means.index)\n",
        "for i, value in enumerate(means.values):\n",
        "    ax.text(value, i, f'{value:.2f}', va='center')\n",
        "plt.title('Média das Características Numéricas')\n",
        "plt.xlabel('Valor Médio')\n",
        "plt.ylabel('Atributo')\n",
        "plt.tight_layout()\n",
        "plt.show()"
      ],
      "metadata": {
        "id": "EPKpanMFCf0e",
        "colab": {
          "base_uri": "https://localhost:8080/",
          "height": 607
        },
        "outputId": "f68a76a3-bd67-4822-887c-172b52f90ccb"
      },
      "execution_count": 46,
      "outputs": [
        {
          "output_type": "display_data",
          "data": {
            "text/plain": [
              "<Figure size 1000x600 with 1 Axes>"
            ],
            "image/png": "[encoded data removed]"
          },
          "metadata": {}
        }
      ]
    },
    {
      "cell_type": "markdown",
      "source": [
        "As odds médias e máximas para vitoria do visitante (AvgA, PA, MaxA) aparecem no topo, com os maiores valores, o que é esperado, já que o visitante geralmente entra como azarão nas partidas. Já os menores valores estão relacionados aos gols marcados (AG, HG) e às odd's médias para vitória do mandante (AvgH), o que reflete uma tendência de favoritismo mais comum dos times da casa."
      ],
      "metadata": {
        "id": "Ybpxtpnl3y8p"
      }
    },
    {
      "cell_type": "markdown",
      "source": [
        "### Desvio Padrão\n"
      ],
      "metadata": {
        "id": "MHRKK0YmCmUw"
      }
    },
    {
      "cell_type": "code",
      "source": [
        "df.describe().loc['std']"
      ],
      "metadata": {
        "colab": {
          "base_uri": "https://localhost:8080/",
          "height": 460
        },
        "id": "aBIXqi0fCwSH",
        "outputId": "907f950b-9f79-4b55-cccf-df92aa27adfc"
      },
      "execution_count": 47,
      "outputs": [
        {
          "output_type": "execute_result",
          "data": {
            "text/plain": [
              "Season    3.156941\n",
              "HG        1.158372\n",
              "AG        0.967422\n",
              "PH        0.964418\n",
              "PD        0.664663\n",
              "PA        2.535481\n",
              "MaxH      1.077162\n",
              "MaxD      0.690743\n",
              "MaxA      2.819727\n",
              "AvgH      0.898657\n",
              "AvgD      0.576835\n",
              "AvgA      2.170512\n",
              "Name: std, dtype: float64"
            ],
            "text/html": [
              "<div>\n",
              "<style scoped>\n",
              "    .dataframe tbody tr th:only-of-type {\n",
              "        vertical-align: middle;\n",
              "    }\n",
              "\n",
              "    .dataframe tbody tr th {\n",
              "        vertical-align: top;\n",
              "    }\n",
              "\n",
              "    .dataframe thead th {\n",
              "        text-align: right;\n",
              "    }\n",
              "</style>\n",
              "<table border=\"1\" class=\"dataframe\">\n",
              "  <thead>\n",
              "    <tr style=\"text-align: right;\">\n",
              "      <th></th>\n",
              "      <th>std</th>\n",
              "    </tr>\n",
              "  </thead>\n",
              "  <tbody>\n",
              "    <tr>\n",
              "      <th>Season</th>\n",
              "      <td>3.156941</td>\n",
              "    </tr>\n",
              "    <tr>\n",
              "      <th>HG</th>\n",
              "      <td>1.158372</td>\n",
              "    </tr>\n",
              "    <tr>\n",
              "      <th>AG</th>\n",
              "      <td>0.967422</td>\n",
              "    </tr>\n",
              "    <tr>\n",
              "      <th>PH</th>\n",
              "      <td>0.964418</td>\n",
              "    </tr>\n",
              "    <tr>\n",
              "      <th>PD</th>\n",
              "      <td>0.664663</td>\n",
              "    </tr>\n",
              "    <tr>\n",
              "      <th>PA</th>\n",
              "      <td>2.535481</td>\n",
              "    </tr>\n",
              "    <tr>\n",
              "      <th>MaxH</th>\n",
              "      <td>1.077162</td>\n",
              "    </tr>\n",
              "    <tr>\n",
              "      <th>MaxD</th>\n",
              "      <td>0.690743</td>\n",
              "    </tr>\n",
              "    <tr>\n",
              "      <th>MaxA</th>\n",
              "      <td>2.819727</td>\n",
              "    </tr>\n",
              "    <tr>\n",
              "      <th>AvgH</th>\n",
              "      <td>0.898657</td>\n",
              "    </tr>\n",
              "    <tr>\n",
              "      <th>AvgD</th>\n",
              "      <td>0.576835</td>\n",
              "    </tr>\n",
              "    <tr>\n",
              "      <th>AvgA</th>\n",
              "      <td>2.170512</td>\n",
              "    </tr>\n",
              "  </tbody>\n",
              "</table>\n",
              "</div><br><label><b>dtype:</b> float64</label>"
            ]
          },
          "metadata": {},
          "execution_count": 47
        }
      ]
    },
    {
      "cell_type": "code",
      "source": [
        "stds = df.describe().loc['std'].sort_values()\n",
        "plt.figure(figsize=(10, 6))\n",
        "ax = sns.barplot(x=stds.values, y=stds.index)\n",
        "for i, value in enumerate(stds.values):\n",
        "    ax.text(value, i, f'{value:,.2f}', va='center')\n",
        "plt.title('Desvio Padrão dos Atributos Numéricos')\n",
        "plt.xlabel('Desvio Padrão')\n",
        "plt.ylabel('Atributo')\n",
        "plt.tight_layout()\n",
        "plt.show()"
      ],
      "metadata": {
        "id": "b_v1ImkCDHYw",
        "colab": {
          "base_uri": "https://localhost:8080/",
          "height": 607
        },
        "outputId": "2bf4e704-6913-4c14-ec7d-c439c05cc27a"
      },
      "execution_count": 48,
      "outputs": [
        {
          "output_type": "display_data",
          "data": {
            "text/plain": [
              "<Figure size 1000x600 with 1 Axes>"
            ],
            "image/png": "[encoded data removed]"
          },
          "metadata": {}
        }
      ]
    },
    {
      "cell_type": "markdown",
      "source": [
        "Observa-se que os atributos com maior variação são MaxA, PA e AvgA, o que indica uma grande dispersão nas odds para vitória do visitante. Já as odds de empate (AvgD, PD) apresentaram menor variação, o que sugere uma maior consistência entre os valores registrados para esse tipo de resultado. Esses dados ajudam a entender quais variáveis são mais estáveis e quais podem ter comportamento mais volátil ao longo das partidas."
      ],
      "metadata": {
        "id": "Q5Dv7_XP3iKO"
      }
    },
    {
      "cell_type": "markdown",
      "source": [
        "## Histograma"
      ],
      "metadata": {
        "id": "4tX_H2zZEFwU"
      }
    },
    {
      "cell_type": "markdown",
      "source": [
        "### *Odd para Vitória do Mandante (PH)h*\n",
        "\n",
        "Verificando o cenário abaixo temos que maior parte das odds está concentrada entre 1 e 2.5, o que indica que, na maioria dos jogos, o time da casa é visto como favorito ou ao menos competitivo pelas casas de apostas. A curva é assimétrica à direita, o que significa que existem alguns jogos em que a vitória do mandante era considerada muito improvável (odds acima de 5 por exemplo), mas são casos raros. Então mostra um favotitismo hitórico dos mandantes."
      ],
      "metadata": {
        "id": "FSs4jBF7HUnV"
      }
    },
    {
      "cell_type": "code",
      "source": [
        "plt.figure(figsize=(8, 4))\n",
        "sns.histplot(df['PH'], bins=30, kde=True)\n",
        "plt.title('Distribuição da Odd para Vitória do Mandante (PH)')\n",
        "plt.xlabel('Odd (PH)')\n",
        "plt.ylabel('Frequência')\n",
        "plt.tight_layout()\n",
        "plt.show()"
      ],
      "metadata": {
        "id": "MdBuOXxzHI5h",
        "colab": {
          "base_uri": "https://localhost:8080/",
          "height": 407
        },
        "outputId": "3b253aa7-e315-4c59-ec21-7a903f7e98df"
      },
      "execution_count": 49,
      "outputs": [
        {
          "output_type": "display_data",
          "data": {
            "text/plain": [
              "<Figure size 800x400 with 1 Axes>"
            ],
            "image/png": "[encoded data removed]"
          },
          "metadata": {}
        }
      ]
    },
    {
      "cell_type": "markdown",
      "source": [
        "### *Distribuição da Odd para Vitória do Visitante (PA)*\n",
        "\n",
        "Enquanto no grafico mandante acina a maioria das odds está concentrada entre 1 e 3, esse histograma abaixo mostra bem claro que a maioria das odds para vitória do visitante (PA) a maior concentração de odds fica entre 3.0 e 6.0, mas existem muitos jogos com odds ainda maiores, chegando até quase 30. Isso reforça a nossa ulttima hipótese de que times visitantes costumam ser menos favoritos, já que as odds mais altas indicam menor probabilidade atribuída à vitória. A curva deslocada para a direita, com picos em valores maiores que os da odd do mandante, sugere que as casas de apostas enxergam menos chances de vitória para os visitantes, o que também dialoga com a ideia da vantagem histórica de jogar em casa."
      ],
      "metadata": {
        "id": "GC3jhtL2HpS5"
      }
    },
    {
      "cell_type": "code",
      "source": [
        "plt.figure(figsize=(8, 4))\n",
        "sns.histplot(df['PA'], bins=30, kde=True, color='tomato')\n",
        "plt.title('Distribuição da Odd para Vitória do Visitante (PA)')\n",
        "plt.xlabel('Odd (PA)')\n",
        "plt.ylabel('Frequência')\n",
        "plt.grid(True)\n",
        "plt.tight_layout()\n",
        "plt.show()"
      ],
      "metadata": {
        "colab": {
          "base_uri": "https://localhost:8080/",
          "height": 407
        },
        "id": "xFULQrKiGPqj",
        "outputId": "7873a1d8-1b24-4408-c913-e131ab2d42ce"
      },
      "execution_count": 50,
      "outputs": [
        {
          "output_type": "display_data",
          "data": {
            "text/plain": [
              "<Figure size 800x400 with 1 Axes>"
            ],
            "image/png": "[encoded data removed]"
          },
          "metadata": {}
        }
      ]
    },
    {
      "cell_type": "markdown",
      "source": [
        "# Pré-Processamento de Dados"
      ],
      "metadata": {
        "id": "VDovmxgDFcbF"
      }
    },
    {
      "cell_type": "markdown",
      "source": [
        "## Tratamento de Valores Nulos\n",
        "\n",
        "Identifiquei que pouquíssimas colunas continham valores nulos, especialmente nas variáveis relacionadas às odds o que é esperado, considerando que nem todas as partidas podem ter odds registradas por todas as casas de apostas, mas a quantidade de nulos não afetaria nossa análise justamente por serem poucos casos,mas para evitar problemas optei por remover as linhas com valores ausentes antes de seguir para as próximas etapas."
      ],
      "metadata": {
        "id": "UC1f5d_BGTVB"
      }
    },
    {
      "cell_type": "code",
      "source": [
        "print(\"Valores nulos no dataset Futbr:\")\n",
        "df.isnull().sum()"
      ],
      "metadata": {
        "id": "fNQUvAnwG8fL",
        "colab": {
          "base_uri": "https://localhost:8080/",
          "height": 697
        },
        "outputId": "13144bc3-a7cd-4e67-9cb9-358438e8be8a"
      },
      "execution_count": 51,
      "outputs": [
        {
          "output_type": "stream",
          "name": "stdout",
          "text": [
            "Valores nulos no dataset Futbr:\n"
          ]
        },
        {
          "output_type": "execute_result",
          "data": {
            "text/plain": [
              "Country    0\n",
              "League     0\n",
              "Season     0\n",
              "Date       0\n",
              "Time       0\n",
              "Home       0\n",
              "Away       0\n",
              "HG         1\n",
              "AG         1\n",
              "Res        1\n",
              "PH         1\n",
              "PD         1\n",
              "PA         1\n",
              "MaxH       0\n",
              "MaxD       0\n",
              "MaxA       0\n",
              "AvgH       0\n",
              "AvgD       0\n",
              "AvgA       0\n",
              "dtype: int64"
            ],
            "text/html": [
              "<div>\n",
              "<style scoped>\n",
              "    .dataframe tbody tr th:only-of-type {\n",
              "        vertical-align: middle;\n",
              "    }\n",
              "\n",
              "    .dataframe tbody tr th {\n",
              "        vertical-align: top;\n",
              "    }\n",
              "\n",
              "    .dataframe thead th {\n",
              "        text-align: right;\n",
              "    }\n",
              "</style>\n",
              "<table border=\"1\" class=\"dataframe\">\n",
              "  <thead>\n",
              "    <tr style=\"text-align: right;\">\n",
              "      <th></th>\n",
              "      <th>0</th>\n",
              "    </tr>\n",
              "  </thead>\n",
              "  <tbody>\n",
              "    <tr>\n",
              "      <th>Country</th>\n",
              "      <td>0</td>\n",
              "    </tr>\n",
              "    <tr>\n",
              "      <th>League</th>\n",
              "      <td>0</td>\n",
              "    </tr>\n",
              "    <tr>\n",
              "      <th>Season</th>\n",
              "      <td>0</td>\n",
              "    </tr>\n",
              "    <tr>\n",
              "      <th>Date</th>\n",
              "      <td>0</td>\n",
              "    </tr>\n",
              "    <tr>\n",
              "      <th>Time</th>\n",
              "      <td>0</td>\n",
              "    </tr>\n",
              "    <tr>\n",
              "      <th>Home</th>\n",
              "      <td>0</td>\n",
              "    </tr>\n",
              "    <tr>\n",
              "      <th>Away</th>\n",
              "      <td>0</td>\n",
              "    </tr>\n",
              "    <tr>\n",
              "      <th>HG</th>\n",
              "      <td>1</td>\n",
              "    </tr>\n",
              "    <tr>\n",
              "      <th>AG</th>\n",
              "      <td>1</td>\n",
              "    </tr>\n",
              "    <tr>\n",
              "      <th>Res</th>\n",
              "      <td>1</td>\n",
              "    </tr>\n",
              "    <tr>\n",
              "      <th>PH</th>\n",
              "      <td>1</td>\n",
              "    </tr>\n",
              "    <tr>\n",
              "      <th>PD</th>\n",
              "      <td>1</td>\n",
              "    </tr>\n",
              "    <tr>\n",
              "      <th>PA</th>\n",
              "      <td>1</td>\n",
              "    </tr>\n",
              "    <tr>\n",
              "      <th>MaxH</th>\n",
              "      <td>0</td>\n",
              "    </tr>\n",
              "    <tr>\n",
              "      <th>MaxD</th>\n",
              "      <td>0</td>\n",
              "    </tr>\n",
              "    <tr>\n",
              "      <th>MaxA</th>\n",
              "      <td>0</td>\n",
              "    </tr>\n",
              "    <tr>\n",
              "      <th>AvgH</th>\n",
              "      <td>0</td>\n",
              "    </tr>\n",
              "    <tr>\n",
              "      <th>AvgD</th>\n",
              "      <td>0</td>\n",
              "    </tr>\n",
              "    <tr>\n",
              "      <th>AvgA</th>\n",
              "      <td>0</td>\n",
              "    </tr>\n",
              "  </tbody>\n",
              "</table>\n",
              "</div><br><label><b>dtype:</b> int64</label>"
            ]
          },
          "metadata": {},
          "execution_count": 51
        }
      ]
    },
    {
      "cell_type": "code",
      "source": [
        "df = df.dropna()\n",
        "df.isnull().sum() #conferindo se zerei os nulos"
      ],
      "metadata": {
        "colab": {
          "base_uri": "https://localhost:8080/",
          "height": 680
        },
        "id": "UpMDehT_be1i",
        "outputId": "c6ce263a-3657-48d8-b7eb-060dca713f79"
      },
      "execution_count": 52,
      "outputs": [
        {
          "output_type": "execute_result",
          "data": {
            "text/plain": [
              "Country    0\n",
              "League     0\n",
              "Season     0\n",
              "Date       0\n",
              "Time       0\n",
              "Home       0\n",
              "Away       0\n",
              "HG         0\n",
              "AG         0\n",
              "Res        0\n",
              "PH         0\n",
              "PD         0\n",
              "PA         0\n",
              "MaxH       0\n",
              "MaxD       0\n",
              "MaxA       0\n",
              "AvgH       0\n",
              "AvgD       0\n",
              "AvgA       0\n",
              "dtype: int64"
            ],
            "text/html": [
              "<div>\n",
              "<style scoped>\n",
              "    .dataframe tbody tr th:only-of-type {\n",
              "        vertical-align: middle;\n",
              "    }\n",
              "\n",
              "    .dataframe tbody tr th {\n",
              "        vertical-align: top;\n",
              "    }\n",
              "\n",
              "    .dataframe thead th {\n",
              "        text-align: right;\n",
              "    }\n",
              "</style>\n",
              "<table border=\"1\" class=\"dataframe\">\n",
              "  <thead>\n",
              "    <tr style=\"text-align: right;\">\n",
              "      <th></th>\n",
              "      <th>0</th>\n",
              "    </tr>\n",
              "  </thead>\n",
              "  <tbody>\n",
              "    <tr>\n",
              "      <th>Country</th>\n",
              "      <td>0</td>\n",
              "    </tr>\n",
              "    <tr>\n",
              "      <th>League</th>\n",
              "      <td>0</td>\n",
              "    </tr>\n",
              "    <tr>\n",
              "      <th>Season</th>\n",
              "      <td>0</td>\n",
              "    </tr>\n",
              "    <tr>\n",
              "      <th>Date</th>\n",
              "      <td>0</td>\n",
              "    </tr>\n",
              "    <tr>\n",
              "      <th>Time</th>\n",
              "      <td>0</td>\n",
              "    </tr>\n",
              "    <tr>\n",
              "      <th>Home</th>\n",
              "      <td>0</td>\n",
              "    </tr>\n",
              "    <tr>\n",
              "      <th>Away</th>\n",
              "      <td>0</td>\n",
              "    </tr>\n",
              "    <tr>\n",
              "      <th>HG</th>\n",
              "      <td>0</td>\n",
              "    </tr>\n",
              "    <tr>\n",
              "      <th>AG</th>\n",
              "      <td>0</td>\n",
              "    </tr>\n",
              "    <tr>\n",
              "      <th>Res</th>\n",
              "      <td>0</td>\n",
              "    </tr>\n",
              "    <tr>\n",
              "      <th>PH</th>\n",
              "      <td>0</td>\n",
              "    </tr>\n",
              "    <tr>\n",
              "      <th>PD</th>\n",
              "      <td>0</td>\n",
              "    </tr>\n",
              "    <tr>\n",
              "      <th>PA</th>\n",
              "      <td>0</td>\n",
              "    </tr>\n",
              "    <tr>\n",
              "      <th>MaxH</th>\n",
              "      <td>0</td>\n",
              "    </tr>\n",
              "    <tr>\n",
              "      <th>MaxD</th>\n",
              "      <td>0</td>\n",
              "    </tr>\n",
              "    <tr>\n",
              "      <th>MaxA</th>\n",
              "      <td>0</td>\n",
              "    </tr>\n",
              "    <tr>\n",
              "      <th>AvgH</th>\n",
              "      <td>0</td>\n",
              "    </tr>\n",
              "    <tr>\n",
              "      <th>AvgD</th>\n",
              "      <td>0</td>\n",
              "    </tr>\n",
              "    <tr>\n",
              "      <th>AvgA</th>\n",
              "      <td>0</td>\n",
              "    </tr>\n",
              "  </tbody>\n",
              "</table>\n",
              "</div><br><label><b>dtype:</b> int64</label>"
            ]
          },
          "metadata": {},
          "execution_count": 52
        }
      ]
    },
    {
      "cell_type": "markdown",
      "source": [
        "## Padronização\n",
        "\n",
        "A primeira padroização que fiz depois de retirar os nulos foi ajustar os dados de resultador de jogo pra facilitar nossa análise."
      ],
      "metadata": {
        "id": "UOSAwBz0GOAM"
      }
    },
    {
      "cell_type": "code",
      "source": [
        "df = df.copy()\n",
        "mapeamento_resultado = {'H': 'Vitória_Mandante', 'D': 'Empate', 'A': 'Vitória_Visitante'}\n",
        "df.loc[:, 'Res'] = df['Res'].astype(str).str.strip().str.upper()\n",
        "df.loc[:, 'Resultado'] = df['Res'].map(mapeamento_resultado)"
      ],
      "metadata": {
        "id": "08rFvjoEGxb_"
      },
      "execution_count": 53,
      "outputs": []
    },
    {
      "cell_type": "code",
      "source": [
        "#verificando se deu certo\n",
        "print(df['Resultado'].unique())\n",
        "df['Resultado'].value_counts()"
      ],
      "metadata": {
        "id": "HxKYatnGe96h",
        "colab": {
          "base_uri": "https://localhost:8080/",
          "height": 227
        },
        "outputId": "d6b64998-29c2-4fb7-c372-07d2f2fad939"
      },
      "execution_count": 54,
      "outputs": [
        {
          "output_type": "stream",
          "name": "stdout",
          "text": [
            "['Empate' 'Vitória_Mandante' 'Vitória_Visitante']\n"
          ]
        },
        {
          "output_type": "execute_result",
          "data": {
            "text/plain": [
              "Resultado\n",
              "Vitória_Mandante     2028\n",
              "Empate               1129\n",
              "Vitória_Visitante    1012\n",
              "Name: count, dtype: int64"
            ],
            "text/html": [
              "<div>\n",
              "<style scoped>\n",
              "    .dataframe tbody tr th:only-of-type {\n",
              "        vertical-align: middle;\n",
              "    }\n",
              "\n",
              "    .dataframe tbody tr th {\n",
              "        vertical-align: top;\n",
              "    }\n",
              "\n",
              "    .dataframe thead th {\n",
              "        text-align: right;\n",
              "    }\n",
              "</style>\n",
              "<table border=\"1\" class=\"dataframe\">\n",
              "  <thead>\n",
              "    <tr style=\"text-align: right;\">\n",
              "      <th></th>\n",
              "      <th>count</th>\n",
              "    </tr>\n",
              "    <tr>\n",
              "      <th>Resultado</th>\n",
              "      <th></th>\n",
              "    </tr>\n",
              "  </thead>\n",
              "  <tbody>\n",
              "    <tr>\n",
              "      <th>Vitória_Mandante</th>\n",
              "      <td>2028</td>\n",
              "    </tr>\n",
              "    <tr>\n",
              "      <th>Empate</th>\n",
              "      <td>1129</td>\n",
              "    </tr>\n",
              "    <tr>\n",
              "      <th>Vitória_Visitante</th>\n",
              "      <td>1012</td>\n",
              "    </tr>\n",
              "  </tbody>\n",
              "</table>\n",
              "</div><br><label><b>dtype:</b> int64</label>"
            ]
          },
          "metadata": {},
          "execution_count": 54
        }
      ]
    },
    {
      "cell_type": "markdown",
      "source": [
        "A segunda padronização foi com o nome dos times, incosistências que identifiquei:\n",
        "- 'Athletico-PR' e 'Atletico-PR' são o mesmo time, com grafia diferente. Então troquei todos pra Athletico-PR.\n",
        "- 'Botafogo RJ', 'Flamengo RJ' a sigla \"RJ\" não é usada para todos os clubes, o que pode causar inconsistência depois, então tirei\n",
        "- 'Chapecoense-SC' também deve ser sem o SC, pois o nome do time é sem a sigla\n",
        "e por fim, ajustei os nomes gerais na gramatica"
      ],
      "metadata": {
        "id": "zmeMPbfhGxcA"
      }
    },
    {
      "cell_type": "code",
      "source": [
        "# combinando as colunas 'Home' e 'Away' para pegar todos os times\n",
        "times_unicos = pd.unique(df[['Home', 'Away']].values.ravel())\n",
        "times_unicos = sorted(times_unicos)\n",
        "print(times_unicos)"
      ],
      "metadata": {
        "colab": {
          "base_uri": "https://localhost:8080/"
        },
        "id": "D6WhdxY2dz8j",
        "outputId": "e5c0a6ca-2052-4dbd-87a5-e6b0e4309c2c"
      },
      "execution_count": 55,
      "outputs": [
        {
          "output_type": "stream",
          "name": "stdout",
          "text": [
            "['America MG', 'Athletico-PR', 'Atletico GO', 'Atletico-MG', 'Atletico-PR', 'Avai', 'Bahia', 'Botafogo RJ', 'Bragantino', 'CSA', 'Ceara', 'Chapecoense-SC', 'Corinthians', 'Coritiba', 'Criciuma', 'Cruzeiro', 'Cuiaba', 'Figueirense', 'Flamengo RJ', 'Fluminense', 'Fortaleza', 'Goias', 'Gremio', 'Internacional', 'Joinville', 'Juventude', 'Nautico', 'Palmeiras', 'Parana', 'Ponte Preta', 'Portuguesa', 'Santa Cruz', 'Santos', 'Sao Paulo', 'Sport Recife', 'Vasco', 'Vitoria']\n"
          ]
        }
      ]
    },
    {
      "cell_type": "code",
      "source": [
        "# padronizando\n",
        "mapeamento_times = {\n",
        "    'Atletico-PR': 'Athletico-PR',\n",
        "    'Athletico-PR': 'Athletico-PR',\n",
        "    'Botafogo RJ': 'Botafogo',\n",
        "    'Flamengo RJ': 'Flamengo',\n",
        "    'Chapecoense-SC': 'Chapecoense',\n",
        "    'Sport Recife': 'Sport',\n",
        "    'America MG': 'América-MG',\n",
        "    'Atletico-MG': 'Atlético-MG',\n",
        "    'Ceara': 'Ceará',\n",
        "    'Goias': 'Goiás',\n",
        "    'Avai': 'Avaí',\n",
        "    'Criciuma': 'Criciúma',\n",
        "    'Gremio': 'Grêmio',\n",
        "    'Vitoria': 'Vitória',\n",
        "    'Sao Paulo': 'São Paulo',\n",
        "    'Coritiba': 'Coritiba',\n",
        "    'Figueirense': 'Figueirense',\n",
        "    'Nautico': 'Náutico',\n",
        "    'Ponte Preta': 'Ponte Preta',\n",
        "    'Portuguesa': 'Portuguesa',\n",
        "    'Santa Cruz': 'Santa Cruz',\n",
        "    'Joinville': 'Joinville',\n",
        "    'Parana': 'Paraná',\n",
        "    'Juventude': 'Juventude',\n",
        "    'Cuiaba': 'Cuiabá',\n",
        "}\n",
        "df['Home'] = df['Home'].replace(mapeamento_times)\n",
        "df['Away'] = df['Away'].replace(mapeamento_times)"
      ],
      "metadata": {
        "id": "IhgHhYrhgYi2"
      },
      "execution_count": 56,
      "outputs": []
    },
    {
      "cell_type": "markdown",
      "source": [
        "Aqui apenas conferindo se os nomes dos paises e da series estavam corretos e não precisam de ajustes"
      ],
      "metadata": {
        "id": "EElo2ArFg7RA"
      }
    },
    {
      "cell_type": "code",
      "source": [
        "df['League'] = df['League'].astype(str).str.strip().str.title()\n",
        "df['Country'] = df['Country'].astype(str).str.strip().str.title()\n",
        "print(sorted(df['Country'].unique()))\n",
        "print(sorted(df['League'].unique()))"
      ],
      "metadata": {
        "colab": {
          "base_uri": "https://localhost:8080/"
        },
        "id": "kV49d_qMhEjo",
        "outputId": "8719adb8-5016-47c9-8b5c-96fdf65263d5"
      },
      "execution_count": 57,
      "outputs": [
        {
          "output_type": "stream",
          "name": "stdout",
          "text": [
            "['Brazil']\n",
            "['Serie A']\n"
          ]
        }
      ]
    },
    {
      "cell_type": "markdown",
      "source": [
        "# Hipótese 1"
      ],
      "metadata": {
        "id": "QAKqaz73dzVP"
      }
    },
    {
      "cell_type": "markdown",
      "source": [
        "Agora entraremos mais afundo nas hipóteses.\n",
        "\n",
        "A primeira hipótese levantada foi que as odd's fornecidas pelas casas de apostas estão relacionadas com o resultado final das partidas. A ideia é verificar se, de fato, a equipe que possui a menor odd de vitória (favorita) acaba vencendo a maior parte dos jogos.\n",
        "\n",
        "Para testar essa hipótese, criei uma nova coluna indicando o favorito (menor odd entre PH, PD, PA), ou seja, qual era o resultado mais provável segundo as casas de apostas (vitória do mandante, empate ou vitória do visitante)."
      ],
      "metadata": {
        "id": "WLInh1mVd539"
      }
    },
    {
      "cell_type": "code",
      "source": [
        "def identificar_favorito(row):\n",
        "    odds = {'Vitória_Mandante': row['PH'], 'Empate': row['PD'], 'Vitória_Visitante': row['PA']}\n",
        "    return min(odds, key=odds.get)\n",
        "df['Favorito'] = df.apply(identificar_favorito, axis=1)"
      ],
      "metadata": {
        "id": "dP_pMyTjhcTX"
      },
      "execution_count": 58,
      "outputs": []
    },
    {
      "cell_type": "markdown",
      "source": [
        "Depois comparei pra ver se o favorito realmente venceu"
      ],
      "metadata": {
        "id": "uQJDDK15iZlI"
      }
    },
    {
      "cell_type": "code",
      "source": [
        "df['Acerto'] = df['Favorito'] == df['Resultado']"
      ],
      "metadata": {
        "id": "NcCABHz2iXT-"
      },
      "execution_count": 59,
      "outputs": []
    },
    {
      "cell_type": "markdown",
      "source": [
        "Depois uma contagem de quantos acertos e erros de forma visual"
      ],
      "metadata": {
        "id": "v9eNSTG4jlVg"
      }
    },
    {
      "cell_type": "code",
      "source": [
        "# contagem de acertos e erros\n",
        "acertos = df['Acerto'].value_counts().rename({True: 'Acertou', False: 'Errou'})\n",
        "\n",
        "plt.figure(figsize=(6, 6))\n",
        "plt.pie(acertos, labels=acertos.index, autopct='%1.1f%%', colors=['#8dd3c7', '#fb8072'], startangle=90)\n",
        "plt.title('As Odds Refletem o Resultado Real?')\n",
        "plt.tight_layout()\n",
        "plt.show()"
      ],
      "metadata": {
        "colab": {
          "base_uri": "https://localhost:8080/",
          "height": 0
        },
        "id": "rb4DasnCiflt",
        "outputId": "13ddaf9d-8c90-4277-f97d-0fa1f0a6750c"
      },
      "execution_count": 60,
      "outputs": [
        {
          "output_type": "display_data",
          "data": {
            "text/plain": [
              "<Figure size 600x600 with 1 Axes>"
            ],
            "image/png": "[encoded data removed]"
          },
          "metadata": {}
        }
      ]
    },
    {
      "cell_type": "markdown",
      "source": [
        "O gráfico de pizza acima mostrou que nossa hipotese não é verdadeira, pois por mais que as odds acertaram o resultado final da partida em cerca de 51,5% dos jogos, enquanto erraram em 48,5%, a baixa diferença de apenas 3% indica que a tendência é muito baixa, ou seja, as odds não são boas previsoras com confiança estatística relevante, elas têm um desempenho ligeiramente melhor, mas insuficiente para afirmar que são previsoras eficientes.\n",
        "\n",
        "Portanto, concluímos que as odds não refletem com precisão confiável o resultado final da partida."
      ],
      "metadata": {
        "id": "WVEs5ttCj8OV"
      }
    },
    {
      "cell_type": "markdown",
      "source": [
        "# Hipótese 2"
      ],
      "metadata": {
        "id": "K7mN11sPHA6T"
      }
    },
    {
      "cell_type": "markdown",
      "source": [
        "Pra verificar essa hipótese, entendo que é necessário calcular a diferença entre as odds dos times, porque quanto maior a diferença, mais claro o “favoritismo”, por exemplo, um time com odd 1.50 contra outro com odd 7.00 indica grande favoritismo."
      ],
      "metadata": {
        "id": "WMmh9HobHXWq"
      }
    },
    {
      "cell_type": "code",
      "source": [
        "df['maior_odd'] = df[['PH', 'PD', 'PA']].max(axis=1)\n",
        "df['menor_odd'] = df[['PH', 'PD', 'PA']].min(axis=1)\n",
        "df['diferenca_odds'] = df['maior_odd'] - df['menor_odd']"
      ],
      "metadata": {
        "id": "UpWXuVlpHGVw"
      },
      "execution_count": 61,
      "outputs": []
    },
    {
      "cell_type": "markdown",
      "source": [
        "Depois, pra facilitar a análise eu categorizei a difernça em 5 níveis, de muito baixa a muito alta:\n",
        "\n",
        "\n",
        "\n"
      ],
      "metadata": {
        "id": "vPcuiMTjHjJo"
      }
    },
    {
      "cell_type": "code",
      "source": [
        "bins = [0, 0.5, 1.5, 3, 6, 30]  # você pode ajustar esses intervalos\n",
        "labels = ['Muito baixa', 'Baixa', 'Média', 'Alta', 'Muito alta']\n",
        "df['faixa_diferenca'] = pd.cut(df['diferenca_odds'], bins=bins, labels=labels)"
      ],
      "metadata": {
        "id": "-y8-EMsXHmgd"
      },
      "execution_count": 62,
      "outputs": []
    },
    {
      "cell_type": "markdown",
      "source": [
        "Por fim, vendo se a taxa de acerto aumenta com a diferença:"
      ],
      "metadata": {
        "id": "sEAptO45H4cm"
      }
    },
    {
      "cell_type": "code",
      "source": [
        "acertos_por_faixa = df.groupby('faixa_diferenca', observed=True)['Acerto'].mean().reset_index()\n",
        "acertos_por_faixa['acerto_percentual'] = acertos_por_faixa['Acerto'] * 100"
      ],
      "metadata": {
        "id": "NqWQ0Gr8vepz"
      },
      "execution_count": 63,
      "outputs": []
    },
    {
      "cell_type": "code",
      "source": [
        "plt.figure(figsize=(10, 6))\n",
        "ax = sns.barplot(data=acertos_por_faixa, x='faixa_diferenca', y='acerto_percentual')\n",
        "for p in ax.patches:\n",
        "    altura = p.get_height()\n",
        "    ax.text(p.get_x() + p.get_width() / 2, altura + 1, f'{altura:.1f}%',\n",
        "            ha='center', va='bottom', fontsize=10)\n",
        "\n",
        "plt.title('Taxa de Acerto das Odds por Faixa de Diferença entre as Odds')\n",
        "plt.ylabel('Acerto (%)')\n",
        "plt.xlabel('Faixa de Diferença de Odds')\n",
        "plt.ylim(0, 100)\n",
        "plt.tight_layout()\n",
        "plt.show()"
      ],
      "metadata": {
        "colab": {
          "base_uri": "https://localhost:8080/",
          "height": 0
        },
        "id": "Oit2TnvEvnUe",
        "outputId": "e4d1fcb3-1e66-4865-f3c1-b538388a4412"
      },
      "execution_count": 64,
      "outputs": [
        {
          "output_type": "display_data",
          "data": {
            "text/plain": [
              "<Figure size 1000x600 with 1 Axes>"
            ],
            "image/png": "[encoded data removed]"
          },
          "metadata": {}
        }
      ]
    },
    {
      "cell_type": "markdown",
      "source": [
        "O gráfico acima então nos mostra uma relação bem clara entre a diferença das odds e a previsão do resultado do jogo, vemos que quando as odds estão muito próximas, ou seja, quando não há um favorito evidente, a taxa de acerto das apostas é baixa, em torno de 35%, mostrando que esses jogos são mais imprevisíveis quanto ao resultado final. À medida que a diferença entre as odds aumenta, indicando um favoritismo mais claro de um dos times, a taxa de acerto também sobe consideravelmente, ultrapassando os 70% nas situações de maior desequilíbrio.\n",
        "\n",
        "Então nossa segunda hipótese está confirmada, os jogos com odds muito diferentes tendem, sim, a ter resultados mais previsíveis com as casas de apostas acertando mais quando há um favorito claro."
      ],
      "metadata": {
        "id": "RkV2MDAYwSBI"
      }
    },
    {
      "cell_type": "markdown",
      "source": [
        "# Hipótese 3"
      ],
      "metadata": {
        "id": "YlFW54rBIbY1"
      }
    },
    {
      "cell_type": "markdown",
      "source": [
        "A terceira hipótese busca entender se, ao longo das partidas analisadas, a vitória do mandante ocorre com maior frequência em comparação com empates e vitórias do visitante. Essa análise pode confirmar ou não a ideia comum de que jogar em casa oferece uma vantagem significativa."
      ],
      "metadata": {
        "id": "1hQrIaXQIeG2"
      }
    },
    {
      "cell_type": "markdown",
      "source": [
        "Pra isso, primeiro eu fiz uma contade de quantas vezes isso ocorreu"
      ],
      "metadata": {
        "id": "v4QTVkxjxN_j"
      }
    },
    {
      "cell_type": "code",
      "source": [
        "contagem_resultados = df['Resultado'].value_counts()\n",
        "print(contagem_resultados)"
      ],
      "metadata": {
        "colab": {
          "base_uri": "https://localhost:8080/"
        },
        "id": "UIF6cRjGIiUb",
        "outputId": "a89c9c79-a9ea-4df7-874f-1eef9f8bc624"
      },
      "execution_count": 65,
      "outputs": [
        {
          "output_type": "stream",
          "name": "stdout",
          "text": [
            "Resultado\n",
            "Vitória_Mandante     2028\n",
            "Empate               1129\n",
            "Vitória_Visitante    1012\n",
            "Name: count, dtype: int64\n"
          ]
        }
      ]
    },
    {
      "cell_type": "markdown",
      "source": [
        "E visualmente a impressão inicial é de que a hipótese se confirma, mas isso não é sufieciente."
      ],
      "metadata": {
        "id": "j1QMYq4NIpZH"
      }
    },
    {
      "cell_type": "code",
      "source": [
        "plt.figure(figsize=(6, 5))\n",
        "contagem_resultados.plot(kind='bar', color=['#4CAF50', '#2196F3', '#F44336'])\n",
        "plt.title(\"Distribuição de Resultados das Partidas\")\n",
        "plt.ylabel(\"Número de Jogos\")\n",
        "plt.xlabel(\"Resultado\")\n",
        "plt.xticks(rotation=0)\n",
        "for i, valor in enumerate(contagem_resultados):\n",
        "    plt.text(i, valor + 5, str(valor), ha='center')\n",
        "plt.tight_layout()\n",
        "plt.show()"
      ],
      "metadata": {
        "colab": {
          "base_uri": "https://localhost:8080/",
          "height": 0
        },
        "id": "4wg6ZYoVIrEk",
        "outputId": "acf11a8a-a6fc-424c-a180-bea87f6f6fd4"
      },
      "execution_count": 66,
      "outputs": [
        {
          "output_type": "display_data",
          "data": {
            "text/plain": [
              "<Figure size 600x500 with 1 Axes>"
            ],
            "image/png": "[encoded data removed]"
          },
          "metadata": {}
        }
      ]
    },
    {
      "cell_type": "markdown",
      "source": [
        "Pra uma real análise o correto seria verificar a média realtiva pelo total de jogos."
      ],
      "metadata": {
        "id": "93SlvVLpx-BM"
      }
    },
    {
      "cell_type": "code",
      "source": [
        "proporcao_resultados = (contagem_resultados / contagem_resultados.sum()) * 100"
      ],
      "metadata": {
        "id": "6Wxs7SEhx7q8"
      },
      "execution_count": 67,
      "outputs": []
    },
    {
      "cell_type": "code",
      "source": [
        "plt.figure(figsize=(6, 6))\n",
        "proporcao_resultados.plot(kind='pie', autopct='%1.1f%%', startangle=90, colors=['#4CAF50', '#2196F3', '#F44336'])\n",
        "plt.title(\"Proporção de Resultados das Partidas\")\n",
        "plt.ylabel('')\n",
        "plt.tight_layout()\n",
        "plt.show()"
      ],
      "metadata": {
        "colab": {
          "base_uri": "https://localhost:8080/",
          "height": 0
        },
        "id": "r-jxJME7xYCG",
        "outputId": "6d29c6c0-e027-40b6-9bb2-6e989b248038"
      },
      "execution_count": 68,
      "outputs": [
        {
          "output_type": "display_data",
          "data": {
            "text/plain": [
              "<Figure size 600x600 with 1 Axes>"
            ],
            "image/png": "[encoded data removed]"
          },
          "metadata": {}
        }
      ]
    },
    {
      "cell_type": "markdown",
      "source": [
        "E com uma análise clusterizada temos que:"
      ],
      "metadata": {
        "id": "CZugyscez7Xq"
      }
    },
    {
      "cell_type": "code",
      "source": [
        "df['vitoria_mandante'] = df['Resultado'] == 'Vitória_Mandante'\n",
        "vitorias = df['vitoria_mandante'].sum()\n",
        "total_jogos = df['vitoria_mandante'].count()\n",
        "percentual_vitorias = (vitorias / total_jogos) * 100"
      ],
      "metadata": {
        "id": "TmU8jVkbzTB7"
      },
      "execution_count": 69,
      "outputs": []
    },
    {
      "cell_type": "code",
      "source": [
        "dados = [vitorias, total_jogos - vitorias]\n",
        "labels = ['Vitória Mandante', 'Empate ou Derrota']\n",
        "colors = ['#4CAF50', '#FF7043']\n",
        "plt.figure(figsize=(6, 6))\n",
        "plt.pie(dados, labels=labels, autopct='%1.1f%%', startangle=90, colors=colors)\n",
        "plt.title(\"Proporção de Vitórias dos Mandantes\")\n",
        "plt.tight_layout()\n",
        "plt.show()"
      ],
      "metadata": {
        "colab": {
          "base_uri": "https://localhost:8080/",
          "height": 0
        },
        "id": "fo2tulTzzvob",
        "outputId": "3fc7bb70-91be-471b-9729-d48061f5cd05"
      },
      "execution_count": 70,
      "outputs": [
        {
          "output_type": "display_data",
          "data": {
            "text/plain": [
              "<Figure size 600x600 with 1 Axes>"
            ],
            "image/png": "[encoded data removed]"
          },
          "metadata": {}
        }
      ]
    },
    {
      "cell_type": "markdown",
      "source": [
        "A análise completa dessa hipótese mostra que mesmo que os times mandantes realmente percam menos (apenas 24,3% das partidas resultam em vitória do visitante - grafico 2 desse tópico) e vençam quase metade dos jogos (48,6%), ainda assim a maioria das partidas (51,4%) termina em empate ou derrota para o mandante. Isso evidencia um cenário mais equilibrado do que favorável pra vitórias e indica que o fator mandante não garante uma vantagem.\n",
        "\n",
        "Então apesar de os mandantes vencerem mais do que qualquer outro resultado individualmente, quando consideramos em conjunto os empates e as derrotas, vemos que os mandantes não tem a maioria absoluta das vitórias. Portanto, a hipótese de que os mandantes têm uma vantagem histórica clara não se confirma."
      ],
      "metadata": {
        "id": "aFi82g3HI0Zm"
      }
    },
    {
      "cell_type": "markdown",
      "source": [
        "# Hipótese 4"
      ],
      "metadata": {
        "id": "Bcwt-g4t6QuP"
      }
    },
    {
      "cell_type": "markdown",
      "source": [
        "Nesta hipótese, vou investigar se o Flamengo, maior clube do Brasil, incontestávelmente, conhecido por sua descomunal força jogando no Maracanã, é o time que mais transforma o favoritismo das casas de apostas em vitórias como mandante."
      ],
      "metadata": {
        "id": "4ATOwBy57PkU"
      }
    },
    {
      "cell_type": "markdown",
      "source": [
        "Primeiro, fiz a coluna favorito, para garantir o time com menor odd, e filtrei os jogos em que o mandante era favorito e venceu."
      ],
      "metadata": {
        "id": "_adBREn_-Oqz"
      }
    },
    {
      "cell_type": "code",
      "source": [
        "df['Favorito'] = df[['PH', 'PD', 'PA']].idxmin(axis=1)\n",
        "df_favorito_mandante = df[df['Favorito'] == 'PH']\n",
        "vitorias_como_favorito = df_favorito_mandante[df_favorito_mandante['Resultado'] == 'Vitória_Mandante']"
      ],
      "metadata": {
        "id": "g0cvy-ft83rY"
      },
      "execution_count": 71,
      "outputs": []
    },
    {
      "cell_type": "markdown",
      "source": [
        "Então, contei quantas vezes cada time venceu, selecionando os 10 com mais vitórias."
      ],
      "metadata": {
        "id": "FeAlumAi-fGX"
      }
    },
    {
      "cell_type": "code",
      "source": [
        "vitorias_por_time = vitorias_como_favorito['Home'].value_counts().reset_index()\n",
        "vitorias_por_time.columns = ['Time', 'Vitorias_como_favorito']\n",
        "vitorias_por_time = vitorias_por_time.sort_values(by='Vitorias_como_favorito', ascending=False)\n",
        "plt.figure(figsize=(10, 6))\n",
        "sns.barplot(data=vitorias_por_time.head(10), x='Vitorias_como_favorito', y='Time')\n",
        "plt.title('Top 10 Times com Mais Vitórias em Casa como Favoritos')\n",
        "plt.xlabel('Vitórias como Favorito (Mandante)')\n",
        "plt.ylabel('Time')\n",
        "for i, row in vitorias_por_time.head(10).iterrows():\n",
        "    plt.text(row['Vitorias_como_favorito'] + 0.5, i, row['Vitorias_como_favorito'], va='center')\n",
        "plt.tight_layout()\n",
        "plt.show()"
      ],
      "metadata": {
        "colab": {
          "base_uri": "https://localhost:8080/",
          "height": 607
        },
        "id": "dey4Mh6--c-m",
        "outputId": "1ee765a7-fa24-4fa3-f1f8-a797a299e154"
      },
      "execution_count": 72,
      "outputs": [
        {
          "output_type": "display_data",
          "data": {
            "text/plain": [
              "<Figure size 1000x600 with 1 Axes>"
            ],
            "image/png": "[encoded data removed]"
          },
          "metadata": {}
        }
      ]
    },
    {
      "cell_type": "markdown",
      "source": [
        "Mesmo o Flamengo aparecendo em segundo no número absoluto de vitórias em casa como favorito, precisamos entender a porcentagem em relação aos jogos totais que aconteceram do time no cenário proposto.\n",
        "\n",
        "Para isso, fiz o número de vitórias como mandante, dividido pelo número de jogos em que o time era mandante."
      ],
      "metadata": {
        "id": "ecnjgEqa7fOt"
      }
    },
    {
      "cell_type": "code",
      "source": [
        "df['Favorito'] = df[['PH', 'PD', 'PA']].idxmin(axis=1)\n",
        "df_favorito_mandante = df[df['Favorito'] == 'PH']\n",
        "vitorias_como_favorito = df_favorito_mandante[df_favorito_mandante['Resultado'] == 'Vitória_Mandante']\n",
        "taxa_conversao = (\n",
        "    vitorias_como_favorito.groupby('Home').size()\n",
        "    / df_favorito_mandante.groupby('Home').size()\n",
        ")\n",
        "df_taxa = taxa_conversao.reset_index(name='Taxa_Conversao').dropna()\n",
        "df_taxa = df_taxa.sort_values(by='Taxa_Conversao', ascending=False)\n",
        "top_times = df_taxa.head(10)"
      ],
      "metadata": {
        "id": "fyRXbgzV8BjC"
      },
      "execution_count": 73,
      "outputs": []
    },
    {
      "cell_type": "code",
      "source": [
        "plt.figure(figsize=(10, 6))\n",
        "sns.barplot(data=top_times, x='Taxa_Conversao', y='Home')\n",
        "plt.title('Top 10 Times que Mais Converteram Favoritismo em Vitória (jogando em casa)')\n",
        "plt.xlabel('Taxa de Conversão (%)')\n",
        "plt.ylabel('Time Mandante')\n",
        "plt.xlim(0, 1.1)\n",
        "plt.tight_layout()\n",
        "plt.show()"
      ],
      "metadata": {
        "colab": {
          "base_uri": "https://localhost:8080/",
          "height": 607
        },
        "id": "zRVT1VTL8HCU",
        "outputId": "b5b8a406-823a-48cb-84c8-0fcee8524b7d"
      },
      "execution_count": 74,
      "outputs": [
        {
          "output_type": "display_data",
          "data": {
            "text/plain": [
              "<Figure size 1000x600 with 1 Axes>"
            ],
            "image/png": "[encoded data removed]"
          },
          "metadata": {}
        }
      ]
    },
    {
      "cell_type": "markdown",
      "source": [
        "Assim, concluímos que mesmo que em números absolutos o Flamengo seja o segundo com mais vitórias como mandante em partidas que ele era favorito, percentualmente ele fica apenas na nona posição, o que não muda em nada os elogios feitos ao time, mas invalida a hipótese levantada."
      ],
      "metadata": {
        "id": "l2SA2XUr_bg8"
      }
    },
    {
      "cell_type": "markdown",
      "source": [
        "# Conclusão"
      ],
      "metadata": {
        "id": "OY_GDjf1G-PM"
      }
    },
    {
      "cell_type": "markdown",
      "source": [
        "A análise exploratória dos dados das partidas da Série A do Campeonato Brasileiro, com foco nas odds fornecidas por casas de apostas e nos resultados dos jogos trouxe informações imporantes e nos deixou as hipóteses levantadas.\n",
        "\n",
        "A Hipótese 1 não foi confirmada já que os dados mostraram que as odds acertaram o resultado final em cerca de 51,5% das partidas. Embora esse percentual seja levemente superior ao número de erros (48,5%), a diferença é pequena, o que revela que as odds não são uma previsão exata ou seja, elas até conseguem captar um leve favoritismo antes do jogo, mas não garantem precisão nos resultados, especialmente em um esporte imprevisível como o futebol.\n",
        "\n",
        "A Hipótese 2 entretanto é verdadeira, pois a análise por faixas de diferença entre odds mostrou que, quanto maior a diferença entre as odds, maior a taxa de acerto da previsão. Na faixa “muito alta”, por exemplo, a taxa de acerto chegou a mais de 70%, enquanto nas faixas de diferença baixa esse valor ficou abaixo de 40%. Isso indica que grandes discrepâncias entre as odds realmente refletem um favoritismo mais claro e aumentam a possibilidade de acerto do resultado final.\n",
        "\n",
        "A Hipótese 3 é falsa, pois vimos que os times mandantes vencem 48,6% das partidas, o que é mais que qualquer outro resultado isolado como empate ou vitória do visitante, mas quando agrupamos empate e derrota, ou seja, quando o mandante não vence, esse número soma 51,4%, superando as vitórias em casa. Isso mostra que, embora jogar em casa traga certo bons números de vitória, essa vantagem não é majoritária se considerarmos todos os resultados.\n",
        "\n",
        "Por fim, a Hipótese 4 também é falsa, pois vimos que o Time que mais possui vitórias em números absolutos como mandante e favorito pelas odds é o Atlético-MG e, percentualmente, é o CSA."
      ],
      "metadata": {
        "id": "EGRs2xzQoU2C"
      }
    }
  ]
}